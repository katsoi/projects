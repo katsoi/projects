{
  "nbformat": 4,
  "nbformat_minor": 0,
  "metadata": {
    "colab": {
      "provenance": [],
      "collapsed_sections": [
        "0XSDHyU9QW8-",
        "P9K9LGVyXcRJ",
        "RnkInG0gXlo2",
        "9Lo5RW6qXssd",
        "DFHEbE4vUOM8",
        "eMDUnoJYZueI",
        "c6CO-9xGS-BF",
        "8vbzGdBaTIXX",
        "sIFysBckTWSM",
        "jSf74z4cThzX",
        "_HXpuTINTur2",
        "zeYDCxFSVYME",
        "Z1dFEqfIX4Gc",
        "BHaVBVK4X_58",
        "Xw_niEvrYEZY"
      ]
    },
    "kernelspec": {
      "display_name": "R",
      "name": "ir"
    }
  },
  "cells": [
    {
      "cell_type": "markdown",
      "metadata": {
        "id": "N332YPvru_vd"
      },
      "source": [
        "# **Data Reference**\n",
        "---\n",
        "\n",
        "\n",
        "| Variable | Description | Type     |\n",
        "| :-------------: | :---------- | :-----------: |\n",
        "|`country`|Name of country|`chr`|\n",
        "|`child_mort`|Death of children under 5 years of age per 1000 live births|`dbl`|\n",
        "|`exports`|Exports of goods and services per capita.  Given as %age of GDP per capita.|`dbl`|\n",
        "|`health`|Total health spending per capita.  Given as %age of GDP per capita.|`dbl`|\n",
        "|`imports`|Imports of goods and services per capita.  Given as %age of the GDP per capita|`dbl`|\n",
        "|`income`|Net income per person|`int`|\n",
        "|`inflation`|The measurement of the annual growth rate of the Total GDP|`dbl`|\n",
        "|`life_expec`|The average number of years a new born child would live if the current mortality patters are to remain the same|`dbl`|\n",
        "|`total_fer`|The number of children that would be born to each woman if the current age-fertility rates remain the same|`dbl`|\n",
        "|`gdpp`|The GDP per capita.  Calculated as the Total GDP divided by the total population|`int`|\n"
      ]
    },
    {
      "cell_type": "markdown",
      "metadata": {
        "id": "N-JO3QtBC6BO"
      },
      "source": [
        "# Data + Libraries"
      ]
    },
    {
      "cell_type": "code",
      "metadata": {
        "colab": {
          "base_uri": "https://localhost:8080/"
        },
        "id": "sQ7Iu75vloW_",
        "outputId": "cd2eab24-7d19-404f-f52c-e50259300f3a"
      },
      "source": [
        "#@title Loading data from copy/paste, don't ask why!  Just run the cell... Data will be saved to `country.data` and `country.names` { display-mode: \"form\" }\n",
        "x <- 'country,child_mort,exports,health,imports,income,inflation,life_expec,total_fer,gdpp\n",
        "Afghanistan,90.2,10,7.58,44.9,1610,9.44,56.2,5.82,553\n",
        "Albania,16.6,28,6.55,48.6,9930,4.49,76.3,1.65,4090\n",
        "Algeria,27.3,38.4,4.17,31.4,12900,16.1,76.5,2.89,4460\n",
        "Angola,119,62.3,2.85,42.9,5900,22.4,60.1,6.16,3530\n",
        "Antigua and Barbuda,10.3,45.5,6.03,58.9,19100,1.44,76.8,2.13,12200\n",
        "Argentina,14.5,18.9,8.1,16,18700,20.9,75.8,2.37,10300\n",
        "Armenia,18.1,20.8,4.4,45.3,6700,7.77,73.3,1.69,3220\n",
        "Australia,4.8,19.8,8.73,20.9,41400,1.16,82,1.93,51900\n",
        "Austria,4.3,51.3,11,47.8,43200,0.873,80.5,1.44,46900\n",
        "Azerbaijan,39.2,54.3,5.88,20.7,16000,13.8,69.1,1.92,5840\n",
        "Bahamas,13.8,35,7.89,43.7,22900,-0.393,73.8,1.86,28000\n",
        "Bahrain,8.6,69.5,4.97,50.9,41100,7.44,76,2.16,20700\n",
        "Bangladesh,49.4,16,3.52,21.8,2440,7.14,70.4,2.33,758\n",
        "Barbados,14.2,39.5,7.97,48.7,15300,0.321,76.7,1.78,16000\n",
        "Belarus,5.5,51.4,5.61,64.5,16200,15.1,70.4,1.49,6030\n",
        "Belgium,4.5,76.4,10.7,74.7,41100,1.88,80,1.86,44400\n",
        "Belize,18.8,58.2,5.2,57.5,7880,1.14,71.4,2.71,4340\n",
        "Benin,111,23.8,4.1,37.2,1820,0.885,61.8,5.36,758\n",
        "Bhutan,42.7,42.5,5.2,70.7,6420,5.99,72.1,2.38,2180\n",
        "Bolivia,46.6,41.2,4.84,34.3,5410,8.78,71.6,3.2,1980\n",
        "Bosnia and Herzegovina,6.9,29.7,11.1,51.3,9720,1.4,76.8,1.31,4610\n",
        "Botswana,52.5,43.6,8.3,51.3,13300,8.92,57.1,2.88,6350\n",
        "Brazil,19.8,10.7,9.01,11.8,14500,8.41,74.2,1.8,11200\n",
        "Brunei,10.5,67.4,2.84,28,80600,16.7,77.1,1.84,35300\n",
        "Bulgaria,10.8,50.2,6.87,53,15300,1.11,73.9,1.57,6840\n",
        "Burkina Faso,116,19.2,6.74,29.6,1430,6.81,57.9,5.87,575\n",
        "Burundi,93.6,8.92,11.6,39.2,764,12.3,57.7,6.26,231\n",
        "Cambodia,44.4,54.1,5.68,59.5,2520,3.12,66.1,2.88,786\n",
        "Cameroon,108,22.2,5.13,27,2660,1.91,57.3,5.11,1310\n",
        "Canada,5.6,29.1,11.3,31,40700,2.87,81.3,1.63,47400\n",
        "Cape Verde,26.5,32.7,4.09,61.8,5830,0.505,72.5,2.67,3310\n",
        "Central African Republic,149,11.8,3.98,26.5,888,2.01,47.5,5.21,446\n",
        "Chad,150,36.8,4.53,43.5,1930,6.39,56.5,6.59,897\n",
        "Chile,8.7,37.7,7.96,31.3,19400,8.96,79.1,1.88,12900\n",
        "China,15.7,26.3,5.07,22.6,9530,6.94,74.6,1.59,4560\n",
        "Colombia,18.6,15.9,7.59,17.8,10900,3.86,76.4,2.01,6250\n",
        "Comoros,88.2,16.5,4.51,51.7,1410,3.87,65.9,4.75,769\n",
        "\"Congo, Dem. Rep.\",116,41.1,7.91,49.6,609,20.8,57.5,6.54,334\n",
        "\"Congo, Rep.\",63.9,85.1,2.46,54.7,5190,20.7,60.4,4.95,2740\n",
        "Costa Rica,10.2,33.2,10.9,35,13000,6.57,80.4,1.92,8200\n",
        "Cote dIvoire,111,50.6,5.3,43.3,2690,5.39,56.3,5.27,1220\n",
        "Croatia,5.5,37.6,7.76,38.1,20100,0.821,76.3,1.55,13500\n",
        "Cyprus,3.6,50.2,5.97,57.5,33900,2.01,79.9,1.42,30800\n",
        "Czech Republic,3.4,66,7.88,62.9,28300,-1.43,77.5,1.51,19800\n",
        "Denmark,4.1,50.5,11.4,43.6,44000,3.22,79.5,1.87,58000\n",
        "Dominican Republic,34.4,22.7,6.22,33.3,11100,5.44,74.6,2.6,5450\n",
        "Ecuador,25.1,27.9,8.06,32.4,9350,7.47,76.7,2.66,4660\n",
        "Egypt,29.1,21.3,4.66,26.6,9860,10.1,70.5,3.19,2600\n",
        "El Salvador,19.2,26.9,6.91,46.6,7300,2.65,74.1,2.27,2990\n",
        "Equatorial Guinea,111,85.8,4.48,58.9,33700,24.9,60.9,5.21,17100\n",
        "Eritrea,55.2,4.79,2.66,23.3,1420,11.6,61.7,4.61,482\n",
        "Estonia,4.5,75.1,6.03,68.7,22700,1.74,76,1.72,14600\n",
        "Fiji,24.1,57.8,4.86,63.9,7350,4.23,65.3,2.67,3650\n",
        "Finland,3,38.7,8.95,37.4,39800,0.351,80,1.87,46200\n",
        "France,4.2,26.8,11.9,28.1,36900,1.05,81.4,2.03,40600\n",
        "Gabon,63.7,57.7,3.5,18.9,15400,16.6,62.9,4.08,8750\n",
        "Gambia,80.3,23.8,5.69,42.7,1660,4.3,65.5,5.71,562\n",
        "Georgia,16.5,35,10.1,52.8,6730,8.55,72.8,1.92,2960\n",
        "Germany,4.2,42.3,11.6,37.1,40400,0.758,80.1,1.39,41800\n",
        "Ghana,74.7,29.5,5.22,45.9,3060,16.6,62.2,4.27,1310\n",
        "Greece,3.9,22.1,10.3,30.7,28700,0.673,80.4,1.48,26900\n",
        "Grenada,14.6,23.8,5.86,49.2,11200,0.48,71.3,2.24,7370\n",
        "Guatemala,35.4,25.8,6.85,36.3,6710,5.14,71.3,3.38,2830\n",
        "Guinea,109,30.3,4.93,43.2,1190,16.1,58,5.34,648\n",
        "Guinea-Bissau,114,14.9,8.5,35.2,1390,2.97,55.6,5.05,547\n",
        "Guyana,37.6,51.4,5.38,79.1,5840,5.73,65.5,2.65,3040\n",
        "Haiti,208,15.3,6.91,64.7,1500,5.45,32.1,3.33,662\n",
        "Hungary,6,81.8,7.33,76.5,22300,2.33,74.5,1.25,13100\n",
        "Iceland,2.6,53.4,9.4,43.3,38800,5.47,82,2.2,41900\n",
        "India,58.8,22.6,4.05,27.1,4410,8.98,66.2,2.6,1350\n",
        "Indonesia,33.3,24.3,2.61,22.4,8430,15.3,69.9,2.48,3110\n",
        "Iran,19.3,24.4,5.6,19.4,17400,15.9,74.5,1.76,6530\n",
        "Iraq,36.9,39.4,8.41,34.1,12700,16.6,67.2,4.56,4500\n",
        "Ireland,4.2,103,9.19,86.5,45700,-3.22,80.4,2.05,48700\n",
        "Israel,4.6,35,7.63,32.9,29600,1.77,81.4,3.03,30600\n",
        "Italy,4,25.2,9.53,27.2,36200,0.319,81.7,1.46,35800\n",
        "Jamaica,18.1,31.3,4.81,49.6,8000,9.81,74.7,2.17,4680\n",
        "Japan,3.2,15,9.49,13.6,35800,-1.9,82.8,1.39,44500\n",
        "Jordan,21.1,48.3,8.04,69,9470,8.43,75.8,3.66,3680\n",
        "Kazakhstan,21.5,44.2,4.29,29.9,20100,19.5,68.4,2.6,9070\n",
        "Kenya,62.2,20.7,4.75,33.6,2480,2.09,62.8,4.37,967\n",
        "Kiribati,62.7,13.3,11.3,79.9,1730,1.52,60.7,3.84,1490\n",
        "Kuwait,10.8,66.7,2.63,30.4,75200,11.2,78.2,2.21,38500\n",
        "Kyrgyz Republic,29.6,51.6,6.18,81.7,2790,10,68.5,3.1,880\n",
        "Lao,78.9,35.4,4.47,49.3,3980,9.2,63.8,3.15,1140\n",
        "Latvia,7.8,53.7,6.68,55.1,18300,-0.812,73.1,1.36,11300\n",
        "Lebanon,10.3,35.8,7.03,60.2,16300,0.238,79.8,1.61,8860\n",
        "Lesotho,99.7,39.4,11.1,101,2380,4.15,46.5,3.3,1170\n",
        "Liberia,89.3,19.1,11.8,92.6,700,5.47,60.8,5.02,327\n",
        "Libya,16.6,65.6,3.88,42.1,29600,14.2,76.1,2.41,12100\n",
        "Lithuania,6.1,65.3,7.04,67.2,21100,2.38,73.2,1.5,12000\n",
        "Luxembourg,2.8,175,7.77,142,91700,3.62,81.3,1.63,105000\n",
        "\"Macedonia, FYR\",10.4,39.8,7.09,58.1,11400,2.04,74,1.47,4540\n",
        "Madagascar,62.2,25,3.77,43,1390,8.79,60.8,4.6,413\n",
        "Malawi,90.5,22.8,6.59,34.9,1030,12.1,53.1,5.31,459\n",
        "Malaysia,7.9,86.9,4.39,71,21100,7.27,74.5,2.15,9070\n",
        "Maldives,13.2,77.6,6.33,65.4,10500,2.88,77.9,2.23,7100\n",
        "Mali,137,22.8,4.98,35.1,1870,4.37,59.5,6.55,708\n",
        "Malta,6.8,153,8.65,154,28300,3.83,80.3,1.36,21100\n",
        "Mauritania,97.4,50.7,4.41,61.2,3320,18.9,68.2,4.98,1200\n",
        "Mauritius,15,51.2,6,62.2,15900,1.13,73.4,1.57,8000\n",
        "\"Micronesia, Fed. Sts.\",40,23.5,14.2,81,3340,3.8,65.4,3.46,2860\n",
        "Moldova,17.2,39.2,11.7,78.5,3910,11.1,69.7,1.27,1630\n",
        "Mongolia,26.1,46.7,5.44,56.7,7710,39.2,66.2,2.64,2650\n",
        "Montenegro,6.8,37,9.11,62.7,14000,1.6,76.4,1.77,6680\n",
        "Morocco,33.5,32.2,5.2,43,6440,0.976,73.5,2.58,2830\n",
        "Mozambique,101,31.5,5.21,46.2,918,7.64,54.5,5.56,419\n",
        "Myanmar,64.4,0.109,1.97,0.0659,3720,7.04,66.8,2.41,988\n",
        "Namibia,56,47.8,6.78,60.7,8460,3.56,58.6,3.6,5190\n",
        "Nepal,47,9.58,5.25,36.4,1990,15.1,68.3,2.61,592\n",
        "Netherlands,4.5,72,11.9,63.6,45500,0.848,80.7,1.79,50300\n",
        "New Zealand,6.2,30.3,10.1,28,32300,3.73,80.9,2.17,33700\n",
        "Niger,123,22.2,5.16,49.1,814,2.55,58.8,7.49,348\n",
        "Nigeria,130,25.3,5.07,17.4,5150,104,60.5,5.84,2330\n",
        "Norway,3.2,39.7,9.48,28.5,62300,5.95,81,1.95,87800\n",
        "Oman,11.7,65.7,2.77,41.2,45300,15.6,76.1,2.9,19300\n",
        "Pakistan,92.1,13.5,2.2,19.4,4280,10.9,65.3,3.85,1040\n",
        "Panama,19.7,70,8.1,78.2,15400,2.59,77.8,2.62,8080\n",
        "Paraguay,24.1,55.1,5.87,51.5,7290,6.1,74.1,2.73,3230\n",
        "Peru,20.3,27.8,5.08,23.8,9960,5.71,77.9,2.54,5020\n",
        "Philippines,31.9,34.8,3.61,36.6,5600,4.22,69,3.16,2130\n",
        "Poland,6,40.1,7.46,42.1,21800,1.66,76.3,1.41,12600\n",
        "Portugal,3.9,29.9,11,37.4,27200,0.643,79.8,1.39,22500\n",
        "Qatar,9,62.3,1.81,23.8,125000,6.98,79.5,2.07,70300\n",
        "Romania,11.5,32.6,5.58,38.8,17800,3.53,73.7,1.59,8230\n",
        "Russia,10,29.2,5.08,21.1,23100,14.2,69.2,1.57,10700\n",
        "Rwanda,63.6,12,10.5,30,1350,2.61,64.6,4.51,563\n",
        "Samoa,18.9,29.2,6.47,53.1,5400,1.72,71.5,4.34,3450\n",
        "Saudi Arabia,15.7,49.6,4.29,33,45400,17.2,75.1,2.96,19300\n",
        "Senegal,66.8,24.9,5.66,40.3,2180,1.85,64,5.06,1000\n",
        "Serbia,7.6,32.9,10.4,47.9,12700,5.88,74.7,1.4,5410\n",
        "Seychelles,14.4,93.8,3.4,108,20400,-4.21,73.4,2.17,10800\n",
        "Sierra Leone,160,16.8,13.1,34.5,1220,17.2,55,5.2,399\n",
        "Singapore,2.8,200,3.96,174,72100,-0.046,82.7,1.15,46600\n",
        "Slovak Republic,7,76.3,8.79,77.8,25200,0.485,75.5,1.43,16600\n",
        "Slovenia,3.2,64.3,9.41,62.9,28700,-0.987,79.5,1.57,23400\n",
        "Solomon Islands,28.1,49.3,8.55,81.2,1780,6.81,61.7,4.24,1290\n",
        "South Africa,53.7,28.6,8.94,27.4,12000,6.35,54.3,2.59,7280\n",
        "South Korea,4.1,49.4,6.93,46.2,30400,3.16,80.1,1.23,22100\n",
        "Spain,3.8,25.5,9.54,26.8,32500,0.16,81.9,1.37,30700\n",
        "Sri Lanka,11.2,19.6,2.94,26.8,8560,22.8,74.4,2.2,2810\n",
        "St. Vincent and the Grenadines,20.7,26.9,4.47,57.1,9920,4.44,71.6,2.07,6230\n",
        "Sudan,76.7,19.7,6.32,17.2,3370,19.6,66.3,4.88,1480\n",
        "Suriname,24.1,52.5,7.01,38.4,14200,7.2,70.3,2.52,8300\n",
        "Sweden,3,46.2,9.63,40.7,42900,0.991,81.5,1.98,52100\n",
        "Switzerland,4.5,64,11.5,53.3,55500,0.317,82.2,1.52,74600\n",
        "Tajikistan,52.4,14.9,5.98,58.6,2110,12.5,69.6,3.51,738\n",
        "Tanzania,71.9,18.7,6.01,29.1,2090,9.25,59.3,5.43,702\n",
        "Thailand,14.9,66.5,3.88,60.8,13500,4.08,76.6,1.55,5080\n",
        "Timor-Leste,62.6,2.2,9.12,27.8,1850,26.5,71.1,6.23,3600\n",
        "Togo,90.3,40.2,7.65,57.3,1210,1.18,58.7,4.87,488\n",
        "Tonga,17.4,12.4,5.07,60.3,4980,3.68,69.9,3.91,3550\n",
        "Tunisia,17.4,50.5,6.21,55.3,10400,3.82,76.9,2.14,4140\n",
        "Turkey,19.1,20.4,6.74,25.5,18000,7.01,78.2,2.15,10700\n",
        "Turkmenistan,62,76.3,2.5,44.5,9940,2.31,67.9,2.83,4440\n",
        "Uganda,81,17.1,9.01,28.6,1540,10.6,56.8,6.15,595\n",
        "Ukraine,11.7,47.1,7.72,51.1,7820,13.4,70.4,1.44,2970\n",
        "United Arab Emirates,8.6,77.7,3.66,63.6,57600,12.5,76.5,1.87,35000\n",
        "United Kingdom,5.2,28.2,9.64,30.8,36200,1.57,80.3,1.92,38900\n",
        "United States,7.3,12.4,17.9,15.8,49400,1.22,78.7,1.93,48400\n",
        "Uruguay,10.6,26.3,8.35,25.4,17100,4.91,76.4,2.08,11900\n",
        "Uzbekistan,36.3,31.7,5.81,28.5,4240,16.5,68.8,2.34,1380\n",
        "Vanuatu,29.2,46.6,5.25,52.7,2950,2.62,63,3.5,2970\n",
        "Venezuela,17.1,28.5,4.91,17.6,16500,45.9,75.4,2.47,13500\n",
        "Vietnam,23.3,72,6.84,80.2,4490,12.1,73.1,1.95,1310\n",
        "Yemen,56.3,30,5.18,34.4,4480,23.6,67.5,4.67,1310\n",
        "Zambia,83.1,37,5.89,30.9,3280,14,52,5.4,1460'\n",
        "country.data <- read.table(\n",
        "    text=x,\n",
        "    sep=\",\",\n",
        "    header=TRUE\n",
        ")\n",
        "\n",
        "country.names <- country.data[1]\n",
        "country.data <- country.data[,-1]\n",
        "\n",
        "print(\"Dataset loaded into 'country.data' and 'country.names'\")"
      ],
      "execution_count": null,
      "outputs": [
        {
          "output_type": "stream",
          "text": [
            "[1] \"Dataset loaded into 'country.data' and 'country.names'\"\n"
          ],
          "name": "stdout"
        }
      ]
    },
    {
      "cell_type": "markdown",
      "metadata": {
        "id": "ivwhCnLttM8Y"
      },
      "source": [
        "## **Libraries Section**"
      ]
    },
    {
      "cell_type": "code",
      "metadata": {
        "colab": {
          "base_uri": "https://localhost:8080/"
        },
        "id": "kQ4SBIPSN4qp",
        "outputId": "68fd44ed-6edb-40d1-b24f-d68928573ec7"
      },
      "source": [
        "# Cell for installation\n",
        "install.packages('ggplot2')\n",
        "install.packages('corrplot')\n",
        "install.packages('cowplot')\n"
      ],
      "execution_count": null,
      "outputs": [
        {
          "output_type": "stream",
          "text": [
            "Installing package into ‘/usr/local/lib/R/site-library’\n",
            "(as ‘lib’ is unspecified)\n",
            "\n",
            "Installing package into ‘/usr/local/lib/R/site-library’\n",
            "(as ‘lib’ is unspecified)\n",
            "\n",
            "Installing package into ‘/usr/local/lib/R/site-library’\n",
            "(as ‘lib’ is unspecified)\n",
            "\n"
          ],
          "name": "stderr"
        }
      ]
    },
    {
      "cell_type": "code",
      "metadata": {
        "colab": {
          "base_uri": "https://localhost:8080/"
        },
        "id": "_1fJfPfSRUM4",
        "outputId": "b547e9ae-a310-4c82-9b02-672a0b41e0a9"
      },
      "source": [
        "#install.packages(\"ggpubr\")\n",
        "install.packages(\"cluster\")\n",
        "#install.packages(\"factoextra\")"
      ],
      "execution_count": null,
      "outputs": [
        {
          "output_type": "stream",
          "text": [
            "Installing package into ‘/usr/local/lib/R/site-library’\n",
            "(as ‘lib’ is unspecified)\n",
            "\n"
          ],
          "name": "stderr"
        }
      ]
    },
    {
      "cell_type": "code",
      "metadata": {
        "colab": {
          "base_uri": "https://localhost:8080/"
        },
        "id": "DcpogPKBtTgh",
        "outputId": "83fc980d-a4c0-42a6-c55f-9f02d044ac9b"
      },
      "source": [
        "# Cell for loading\n",
        "library(ggplot2)\n",
        "library(cowplot)\n",
        "library(corrplot)"
      ],
      "execution_count": null,
      "outputs": [
        {
          "output_type": "stream",
          "text": [
            "corrplot 0.84 loaded\n",
            "\n"
          ],
          "name": "stderr"
        }
      ]
    },
    {
      "cell_type": "code",
      "metadata": {
        "id": "g6bOfCZORyOG"
      },
      "source": [
        "#library(ggpubr)\n",
        "library(cluster)\n",
        "#library(factoextra)"
      ],
      "execution_count": null,
      "outputs": []
    },
    {
      "cell_type": "markdown",
      "metadata": {
        "id": "i3L1uy-ktpCg"
      },
      "source": [
        "# **Exploratory Data Analysis**"
      ]
    },
    {
      "cell_type": "code",
      "metadata": {
        "colab": {
          "base_uri": "https://localhost:8080/",
          "height": 207
        },
        "id": "kBVQ9QbdtofF",
        "outputId": "e5e70221-b547-4ec8-aaf6-1c04922ddbc9"
      },
      "source": [
        "head(cbind(country.names, country.data))"
      ],
      "execution_count": null,
      "outputs": [
        {
          "output_type": "display_data",
          "data": {
            "text/html": [
              "<table>\n",
              "<caption>A data.frame: 6 × 10</caption>\n",
              "<thead>\n",
              "\t<tr><th></th><th scope=col>country</th><th scope=col>child_mort</th><th scope=col>exports</th><th scope=col>health</th><th scope=col>imports</th><th scope=col>income</th><th scope=col>inflation</th><th scope=col>life_expec</th><th scope=col>total_fer</th><th scope=col>gdpp</th></tr>\n",
              "\t<tr><th></th><th scope=col>&lt;chr&gt;</th><th scope=col>&lt;dbl&gt;</th><th scope=col>&lt;dbl&gt;</th><th scope=col>&lt;dbl&gt;</th><th scope=col>&lt;dbl&gt;</th><th scope=col>&lt;int&gt;</th><th scope=col>&lt;dbl&gt;</th><th scope=col>&lt;dbl&gt;</th><th scope=col>&lt;dbl&gt;</th><th scope=col>&lt;int&gt;</th></tr>\n",
              "</thead>\n",
              "<tbody>\n",
              "\t<tr><th scope=row>1</th><td>Afghanistan        </td><td> 90.2</td><td>10.0</td><td>7.58</td><td>44.9</td><td> 1610</td><td> 9.44</td><td>56.2</td><td>5.82</td><td>  553</td></tr>\n",
              "\t<tr><th scope=row>2</th><td>Albania            </td><td> 16.6</td><td>28.0</td><td>6.55</td><td>48.6</td><td> 9930</td><td> 4.49</td><td>76.3</td><td>1.65</td><td> 4090</td></tr>\n",
              "\t<tr><th scope=row>3</th><td>Algeria            </td><td> 27.3</td><td>38.4</td><td>4.17</td><td>31.4</td><td>12900</td><td>16.10</td><td>76.5</td><td>2.89</td><td> 4460</td></tr>\n",
              "\t<tr><th scope=row>4</th><td>Angola             </td><td>119.0</td><td>62.3</td><td>2.85</td><td>42.9</td><td> 5900</td><td>22.40</td><td>60.1</td><td>6.16</td><td> 3530</td></tr>\n",
              "\t<tr><th scope=row>5</th><td>Antigua and Barbuda</td><td> 10.3</td><td>45.5</td><td>6.03</td><td>58.9</td><td>19100</td><td> 1.44</td><td>76.8</td><td>2.13</td><td>12200</td></tr>\n",
              "\t<tr><th scope=row>6</th><td>Argentina          </td><td> 14.5</td><td>18.9</td><td>8.10</td><td>16.0</td><td>18700</td><td>20.90</td><td>75.8</td><td>2.37</td><td>10300</td></tr>\n",
              "</tbody>\n",
              "</table>\n"
            ],
            "text/latex": "A data.frame: 6 × 10\n\\begin{tabular}{r|llllllllll}\n  & country & child\\_mort & exports & health & imports & income & inflation & life\\_expec & total\\_fer & gdpp\\\\\n  & <chr> & <dbl> & <dbl> & <dbl> & <dbl> & <int> & <dbl> & <dbl> & <dbl> & <int>\\\\\n\\hline\n\t1 & Afghanistan         &  90.2 & 10.0 & 7.58 & 44.9 &  1610 &  9.44 & 56.2 & 5.82 &   553\\\\\n\t2 & Albania             &  16.6 & 28.0 & 6.55 & 48.6 &  9930 &  4.49 & 76.3 & 1.65 &  4090\\\\\n\t3 & Algeria             &  27.3 & 38.4 & 4.17 & 31.4 & 12900 & 16.10 & 76.5 & 2.89 &  4460\\\\\n\t4 & Angola              & 119.0 & 62.3 & 2.85 & 42.9 &  5900 & 22.40 & 60.1 & 6.16 &  3530\\\\\n\t5 & Antigua and Barbuda &  10.3 & 45.5 & 6.03 & 58.9 & 19100 &  1.44 & 76.8 & 2.13 & 12200\\\\\n\t6 & Argentina           &  14.5 & 18.9 & 8.10 & 16.0 & 18700 & 20.90 & 75.8 & 2.37 & 10300\\\\\n\\end{tabular}\n",
            "text/markdown": "\nA data.frame: 6 × 10\n\n| <!--/--> | country &lt;chr&gt; | child_mort &lt;dbl&gt; | exports &lt;dbl&gt; | health &lt;dbl&gt; | imports &lt;dbl&gt; | income &lt;int&gt; | inflation &lt;dbl&gt; | life_expec &lt;dbl&gt; | total_fer &lt;dbl&gt; | gdpp &lt;int&gt; |\n|---|---|---|---|---|---|---|---|---|---|---|\n| 1 | Afghanistan         |  90.2 | 10.0 | 7.58 | 44.9 |  1610 |  9.44 | 56.2 | 5.82 |   553 |\n| 2 | Albania             |  16.6 | 28.0 | 6.55 | 48.6 |  9930 |  4.49 | 76.3 | 1.65 |  4090 |\n| 3 | Algeria             |  27.3 | 38.4 | 4.17 | 31.4 | 12900 | 16.10 | 76.5 | 2.89 |  4460 |\n| 4 | Angola              | 119.0 | 62.3 | 2.85 | 42.9 |  5900 | 22.40 | 60.1 | 6.16 |  3530 |\n| 5 | Antigua and Barbuda |  10.3 | 45.5 | 6.03 | 58.9 | 19100 |  1.44 | 76.8 | 2.13 | 12200 |\n| 6 | Argentina           |  14.5 | 18.9 | 8.10 | 16.0 | 18700 | 20.90 | 75.8 | 2.37 | 10300 |\n\n",
            "text/plain": [
              "  country             child_mort exports health imports income inflation\n",
              "1 Afghanistan          90.2      10.0    7.58   44.9     1610   9.44    \n",
              "2 Albania              16.6      28.0    6.55   48.6     9930   4.49    \n",
              "3 Algeria              27.3      38.4    4.17   31.4    12900  16.10    \n",
              "4 Angola              119.0      62.3    2.85   42.9     5900  22.40    \n",
              "5 Antigua and Barbuda  10.3      45.5    6.03   58.9    19100   1.44    \n",
              "6 Argentina            14.5      18.9    8.10   16.0    18700  20.90    \n",
              "  life_expec total_fer gdpp \n",
              "1 56.2       5.82        553\n",
              "2 76.3       1.65       4090\n",
              "3 76.5       2.89       4460\n",
              "4 60.1       6.16       3530\n",
              "5 76.8       2.13      12200\n",
              "6 75.8       2.37      10300"
            ]
          },
          "metadata": {
            "tags": []
          }
        }
      ]
    },
    {
      "cell_type": "code",
      "metadata": {
        "colab": {
          "base_uri": "https://localhost:8080/",
          "height": 382
        },
        "id": "1z3Oc-mHe8vi",
        "outputId": "7a934e0b-f32c-410b-8f81-15e609a8d79f"
      },
      "source": [
        "summary(country.data)"
      ],
      "execution_count": null,
      "outputs": [
        {
          "output_type": "display_data",
          "data": {
            "text/plain": [
              "   child_mort        exports            health          imports        \n",
              " Min.   :  2.60   Min.   :  0.109   Min.   : 1.810   Min.   :  0.0659  \n",
              " 1st Qu.:  8.25   1st Qu.: 23.800   1st Qu.: 4.920   1st Qu.: 30.2000  \n",
              " Median : 19.30   Median : 35.000   Median : 6.320   Median : 43.3000  \n",
              " Mean   : 38.27   Mean   : 41.109   Mean   : 6.816   Mean   : 46.8902  \n",
              " 3rd Qu.: 62.10   3rd Qu.: 51.350   3rd Qu.: 8.600   3rd Qu.: 58.7500  \n",
              " Max.   :208.00   Max.   :200.000   Max.   :17.900   Max.   :174.0000  \n",
              "     income         inflation         life_expec      total_fer    \n",
              " Min.   :   609   Min.   : -4.210   Min.   :32.10   Min.   :1.150  \n",
              " 1st Qu.:  3355   1st Qu.:  1.810   1st Qu.:65.30   1st Qu.:1.795  \n",
              " Median :  9960   Median :  5.390   Median :73.10   Median :2.410  \n",
              " Mean   : 17145   Mean   :  7.782   Mean   :70.56   Mean   :2.948  \n",
              " 3rd Qu.: 22800   3rd Qu.: 10.750   3rd Qu.:76.80   3rd Qu.:3.880  \n",
              " Max.   :125000   Max.   :104.000   Max.   :82.80   Max.   :7.490  \n",
              "      gdpp       \n",
              " Min.   :   231  \n",
              " 1st Qu.:  1330  \n",
              " Median :  4660  \n",
              " Mean   : 12964  \n",
              " 3rd Qu.: 14050  \n",
              " Max.   :105000  "
            ]
          },
          "metadata": {
            "tags": []
          }
        }
      ]
    },
    {
      "cell_type": "code",
      "metadata": {
        "colab": {
          "base_uri": "https://localhost:8080/",
          "height": 250
        },
        "id": "9chcsq0Oe1xO",
        "outputId": "a28cdab1-6de0-4ace-8b4c-afd6a12c701a"
      },
      "source": [
        "cor(country.data)"
      ],
      "execution_count": null,
      "outputs": [
        {
          "output_type": "display_data",
          "data": {
            "text/html": [
              "<table>\n",
              "<caption>A matrix: 9 × 9 of type dbl</caption>\n",
              "<thead>\n",
              "\t<tr><th></th><th scope=col>child_mort</th><th scope=col>exports</th><th scope=col>health</th><th scope=col>imports</th><th scope=col>income</th><th scope=col>inflation</th><th scope=col>life_expec</th><th scope=col>total_fer</th><th scope=col>gdpp</th></tr>\n",
              "</thead>\n",
              "<tbody>\n",
              "\t<tr><th scope=row>child_mort</th><td> 1.0000000</td><td>-0.3180932</td><td>-0.20040206</td><td>-0.12721092</td><td>-0.5243150</td><td> 0.2882762</td><td>-0.88667610</td><td> 0.8484781</td><td>-0.4830322</td></tr>\n",
              "\t<tr><th scope=row>exports</th><td>-0.3180932</td><td> 1.0000000</td><td>-0.11440840</td><td> 0.73738083</td><td> 0.5167836</td><td>-0.1072944</td><td> 0.31631260</td><td>-0.3200106</td><td> 0.4187248</td></tr>\n",
              "\t<tr><th scope=row>health</th><td>-0.2004021</td><td>-0.1144084</td><td> 1.00000000</td><td> 0.09571668</td><td> 0.1295786</td><td>-0.2553758</td><td> 0.21069212</td><td>-0.1966740</td><td> 0.3459655</td></tr>\n",
              "\t<tr><th scope=row>imports</th><td>-0.1272109</td><td> 0.7373808</td><td> 0.09571668</td><td> 1.00000000</td><td> 0.1224062</td><td>-0.2469943</td><td> 0.05439053</td><td>-0.1590484</td><td> 0.1154982</td></tr>\n",
              "\t<tr><th scope=row>income</th><td>-0.5243150</td><td> 0.5167836</td><td> 0.12957861</td><td> 0.12240625</td><td> 1.0000000</td><td>-0.1477560</td><td> 0.61196247</td><td>-0.5018401</td><td> 0.8955714</td></tr>\n",
              "\t<tr><th scope=row>inflation</th><td> 0.2882762</td><td>-0.1072944</td><td>-0.25537579</td><td>-0.24699428</td><td>-0.1477560</td><td> 1.0000000</td><td>-0.23970496</td><td> 0.3169211</td><td>-0.2216311</td></tr>\n",
              "\t<tr><th scope=row>life_expec</th><td>-0.8866761</td><td> 0.3163126</td><td> 0.21069212</td><td> 0.05439053</td><td> 0.6119625</td><td>-0.2397050</td><td> 1.00000000</td><td>-0.7608747</td><td> 0.6000891</td></tr>\n",
              "\t<tr><th scope=row>total_fer</th><td> 0.8484781</td><td>-0.3200106</td><td>-0.19667399</td><td>-0.15904843</td><td>-0.5018401</td><td> 0.3169211</td><td>-0.76087469</td><td> 1.0000000</td><td>-0.4549103</td></tr>\n",
              "\t<tr><th scope=row>gdpp</th><td>-0.4830322</td><td> 0.4187248</td><td> 0.34596553</td><td> 0.11549817</td><td> 0.8955714</td><td>-0.2216311</td><td> 0.60008913</td><td>-0.4549103</td><td> 1.0000000</td></tr>\n",
              "</tbody>\n",
              "</table>\n"
            ],
            "text/latex": "A matrix: 9 × 9 of type dbl\n\\begin{tabular}{r|lllllllll}\n  & child\\_mort & exports & health & imports & income & inflation & life\\_expec & total\\_fer & gdpp\\\\\n\\hline\n\tchild\\_mort &  1.0000000 & -0.3180932 & -0.20040206 & -0.12721092 & -0.5243150 &  0.2882762 & -0.88667610 &  0.8484781 & -0.4830322\\\\\n\texports & -0.3180932 &  1.0000000 & -0.11440840 &  0.73738083 &  0.5167836 & -0.1072944 &  0.31631260 & -0.3200106 &  0.4187248\\\\\n\thealth & -0.2004021 & -0.1144084 &  1.00000000 &  0.09571668 &  0.1295786 & -0.2553758 &  0.21069212 & -0.1966740 &  0.3459655\\\\\n\timports & -0.1272109 &  0.7373808 &  0.09571668 &  1.00000000 &  0.1224062 & -0.2469943 &  0.05439053 & -0.1590484 &  0.1154982\\\\\n\tincome & -0.5243150 &  0.5167836 &  0.12957861 &  0.12240625 &  1.0000000 & -0.1477560 &  0.61196247 & -0.5018401 &  0.8955714\\\\\n\tinflation &  0.2882762 & -0.1072944 & -0.25537579 & -0.24699428 & -0.1477560 &  1.0000000 & -0.23970496 &  0.3169211 & -0.2216311\\\\\n\tlife\\_expec & -0.8866761 &  0.3163126 &  0.21069212 &  0.05439053 &  0.6119625 & -0.2397050 &  1.00000000 & -0.7608747 &  0.6000891\\\\\n\ttotal\\_fer &  0.8484781 & -0.3200106 & -0.19667399 & -0.15904843 & -0.5018401 &  0.3169211 & -0.76087469 &  1.0000000 & -0.4549103\\\\\n\tgdpp & -0.4830322 &  0.4187248 &  0.34596553 &  0.11549817 &  0.8955714 & -0.2216311 &  0.60008913 & -0.4549103 &  1.0000000\\\\\n\\end{tabular}\n",
            "text/markdown": "\nA matrix: 9 × 9 of type dbl\n\n| <!--/--> | child_mort | exports | health | imports | income | inflation | life_expec | total_fer | gdpp |\n|---|---|---|---|---|---|---|---|---|---|\n| child_mort |  1.0000000 | -0.3180932 | -0.20040206 | -0.12721092 | -0.5243150 |  0.2882762 | -0.88667610 |  0.8484781 | -0.4830322 |\n| exports | -0.3180932 |  1.0000000 | -0.11440840 |  0.73738083 |  0.5167836 | -0.1072944 |  0.31631260 | -0.3200106 |  0.4187248 |\n| health | -0.2004021 | -0.1144084 |  1.00000000 |  0.09571668 |  0.1295786 | -0.2553758 |  0.21069212 | -0.1966740 |  0.3459655 |\n| imports | -0.1272109 |  0.7373808 |  0.09571668 |  1.00000000 |  0.1224062 | -0.2469943 |  0.05439053 | -0.1590484 |  0.1154982 |\n| income | -0.5243150 |  0.5167836 |  0.12957861 |  0.12240625 |  1.0000000 | -0.1477560 |  0.61196247 | -0.5018401 |  0.8955714 |\n| inflation |  0.2882762 | -0.1072944 | -0.25537579 | -0.24699428 | -0.1477560 |  1.0000000 | -0.23970496 |  0.3169211 | -0.2216311 |\n| life_expec | -0.8866761 |  0.3163126 |  0.21069212 |  0.05439053 |  0.6119625 | -0.2397050 |  1.00000000 | -0.7608747 |  0.6000891 |\n| total_fer |  0.8484781 | -0.3200106 | -0.19667399 | -0.15904843 | -0.5018401 |  0.3169211 | -0.76087469 |  1.0000000 | -0.4549103 |\n| gdpp | -0.4830322 |  0.4187248 |  0.34596553 |  0.11549817 |  0.8955714 | -0.2216311 |  0.60008913 | -0.4549103 |  1.0000000 |\n\n",
            "text/plain": [
              "           child_mort exports    health      imports     income     inflation \n",
              "child_mort  1.0000000 -0.3180932 -0.20040206 -0.12721092 -0.5243150  0.2882762\n",
              "exports    -0.3180932  1.0000000 -0.11440840  0.73738083  0.5167836 -0.1072944\n",
              "health     -0.2004021 -0.1144084  1.00000000  0.09571668  0.1295786 -0.2553758\n",
              "imports    -0.1272109  0.7373808  0.09571668  1.00000000  0.1224062 -0.2469943\n",
              "income     -0.5243150  0.5167836  0.12957861  0.12240625  1.0000000 -0.1477560\n",
              "inflation   0.2882762 -0.1072944 -0.25537579 -0.24699428 -0.1477560  1.0000000\n",
              "life_expec -0.8866761  0.3163126  0.21069212  0.05439053  0.6119625 -0.2397050\n",
              "total_fer   0.8484781 -0.3200106 -0.19667399 -0.15904843 -0.5018401  0.3169211\n",
              "gdpp       -0.4830322  0.4187248  0.34596553  0.11549817  0.8955714 -0.2216311\n",
              "           life_expec  total_fer  gdpp      \n",
              "child_mort -0.88667610  0.8484781 -0.4830322\n",
              "exports     0.31631260 -0.3200106  0.4187248\n",
              "health      0.21069212 -0.1966740  0.3459655\n",
              "imports     0.05439053 -0.1590484  0.1154982\n",
              "income      0.61196247 -0.5018401  0.8955714\n",
              "inflation  -0.23970496  0.3169211 -0.2216311\n",
              "life_expec  1.00000000 -0.7608747  0.6000891\n",
              "total_fer  -0.76087469  1.0000000 -0.4549103\n",
              "gdpp        0.60008913 -0.4549103  1.0000000"
            ]
          },
          "metadata": {
            "tags": []
          }
        }
      ]
    },
    {
      "cell_type": "code",
      "metadata": {
        "colab": {
          "base_uri": "https://localhost:8080/"
        },
        "id": "l_4GozOPSc6d",
        "outputId": "3a027f43-8e9d-4502-98fd-9ed78b9bfc55"
      },
      "source": [
        "install.packages(\"RColorBrewer\")\n",
        "library(RColorBrewer)"
      ],
      "execution_count": null,
      "outputs": [
        {
          "output_type": "stream",
          "text": [
            "Installing package into ‘/usr/local/lib/R/site-library’\n",
            "(as ‘lib’ is unspecified)\n",
            "\n"
          ],
          "name": "stderr"
        }
      ]
    },
    {
      "cell_type": "code",
      "metadata": {
        "colab": {
          "base_uri": "https://localhost:8080/",
          "height": 437
        },
        "id": "-LkhyYBJFiVt",
        "outputId": "40e8d150-736c-4cf4-87b8-b4ff2eb2e697"
      },
      "source": [
        "# corrplot(cor(country.data), type=\"upper\", method=\"circle\",\n",
        "#     tl.pos=\"tl\", tl.col=\"black\")\n",
        "# # draw labels in black (disabling all the other stuff already drawn)\n",
        "# corrplot(cor(country.data), add=T, type=\"lower\", method=\"number\",\n",
        "#     col=\"black\", diag=F, tl.pos=\"n\", cl.pos=\"n\")\n",
        "# corrplot.mixed(cormatx, upper = \"ellipse\", lower = \"number\",\n",
        "#                tl.pos = \"lt\", tl.col = \"black\", tl.offset=1, tl.srt = 0)\n",
        "col <- colorRampPalette(c(\"#BB4444\", \"#EE9988\", \"#FFFFFF\", \"#77AADD\", \"#4477AA\"))\n",
        "corrplot(cor(country.data), method=\"color\", col=col(200),  \n",
        "         type=\"upper\", order=\"hclust\", \n",
        "         addCoef.col = \"black\", # Add coefficient of correlation\n",
        "         tl.col=\"black\", tl.srt=45, \n",
        "         diag=FALSE \n",
        "         )"
      ],
      "execution_count": null,
      "outputs": [
        {
          "output_type": "display_data",
          "data": {
            "image/png": "[encoded data removed]",
            "text/plain": [
              "Plot with title “”"
            ]
          },
          "metadata": {
            "tags": [],
            "image/png": {
              "height": 420,
              "width": 420
            }
          }
        }
      ]
    },
    {
      "cell_type": "markdown",
      "metadata": {
        "id": "XDHmPRL9qDXh"
      },
      "source": [
        "There is a strong (0.70 to 0.80) correlation (both negative and positive) between the following features:\n",
        "* child mortality and life expectancy\n",
        "* child mortality and total fertility\n",
        "* exports and imports\n",
        "* income and gdpp\n",
        "* life expectancy and total fertility\n",
        "\n",
        "There is a semi-strong (0.50 to 0.69) correlation (both negative and positive) between the following features:\n",
        "* child mortality and income\n",
        "* exports and income\n",
        "* income and life expectancy\n",
        "* income and total fertility \n",
        "* life expectancy and gdpp\n",
        "\n",
        "\n",
        "*Health* and *inflation* both have very weak correlation with all the other features.\n",
        "\n",
        "\n"
      ]
    },
    {
      "cell_type": "code",
      "metadata": {
        "id": "wSxFlYwj6oOC"
      },
      "source": [
        "plot(country.data, pch=20)"
      ],
      "execution_count": null,
      "outputs": []
    },
    {
      "cell_type": "markdown",
      "metadata": {
        "id": "S-1lmyotQMh8"
      },
      "source": [
        "## Plots of Three Features with Strong Correlation"
      ]
    },
    {
      "cell_type": "markdown",
      "metadata": {
        "id": "0XSDHyU9QW8-"
      },
      "source": [
        "### Child Mortality, Life Expectancy, and Total Fertility\n"
      ]
    },
    {
      "cell_type": "markdown",
      "metadata": {
        "id": "P9K9LGVyXcRJ"
      },
      "source": [
        "#### Child Mortality and Life Expectancy by Total Fertility"
      ]
    },
    {
      "cell_type": "code",
      "metadata": {
        "id": "IHIYat66UNJ5"
      },
      "source": [
        "ggplot(country.data, aes(x=child_mort, y= life_expec, col=total_fer)) + \n",
        "  geom_point()"
      ],
      "execution_count": null,
      "outputs": []
    },
    {
      "cell_type": "markdown",
      "metadata": {
        "id": "RnkInG0gXlo2"
      },
      "source": [
        "#### Life Expectancy and Total Fertility by Child Mortality"
      ]
    },
    {
      "cell_type": "code",
      "metadata": {
        "id": "2OIqt2ZlXmPD"
      },
      "source": [
        "ggplot(country.data, aes(x=life_expec, y=total_fer, col=child_mort)) + \n",
        "  geom_point()"
      ],
      "execution_count": null,
      "outputs": []
    },
    {
      "cell_type": "markdown",
      "metadata": {
        "id": "9Lo5RW6qXssd"
      },
      "source": [
        "#### Total Fertility and Child Mortality by Life Expectancy"
      ]
    },
    {
      "cell_type": "code",
      "metadata": {
        "id": "xoi_0H2lXpwc"
      },
      "source": [
        "ggplot(country.data, aes(x=total_fer, y=child_mort, col=life_expec)) + \n",
        "  geom_point()"
      ],
      "execution_count": null,
      "outputs": []
    },
    {
      "cell_type": "markdown",
      "metadata": {
        "id": "DFHEbE4vUOM8"
      },
      "source": [
        "### Income, Child Mortality, Life Expectancy, and Total Fertility"
      ]
    },
    {
      "cell_type": "markdown",
      "metadata": {
        "id": "eMDUnoJYZueI"
      },
      "source": [
        "#### Income and Child Mortality"
      ]
    },
    {
      "cell_type": "markdown",
      "metadata": {
        "id": "wJhUzRSgS6CR"
      },
      "source": [
        "##### Income and Child Mortality by Life Expectancy"
      ]
    },
    {
      "cell_type": "code",
      "metadata": {
        "id": "L0sNf8XpfwMN"
      },
      "source": [
        "ggplot(country.data, aes(x=income, y=child_mort, col=life_expec)) + \n",
        "  geom_point() # very interesting"
      ],
      "execution_count": null,
      "outputs": []
    },
    {
      "cell_type": "markdown",
      "metadata": {
        "id": "WrM47QhzY9AU"
      },
      "source": [
        "##### Income and Child Mortality by Total Fertility"
      ]
    },
    {
      "cell_type": "code",
      "metadata": {
        "id": "wUCBUz6_Y-zD"
      },
      "source": [
        "ggplot(country.data, aes(x=income, y=child_mort, col=total_fer)) + \n",
        "  geom_point() # interesting"
      ],
      "execution_count": null,
      "outputs": []
    },
    {
      "cell_type": "markdown",
      "metadata": {
        "id": "c6CO-9xGS-BF"
      },
      "source": [
        "#### Income and Life Expectancy\n"
      ]
    },
    {
      "cell_type": "markdown",
      "metadata": {
        "id": "nkexMM4sZ9Pq"
      },
      "source": [
        "##### Income and Life Expectancy by Child Mortality"
      ]
    },
    {
      "cell_type": "code",
      "metadata": {
        "id": "5I41V0_eS3Gv"
      },
      "source": [
        "ggplot(country.data, aes(x=income, y=life_expec, col=child_mort)) + \n",
        "  geom_point() # semi-interesting"
      ],
      "execution_count": null,
      "outputs": []
    },
    {
      "cell_type": "markdown",
      "metadata": {
        "id": "aroq1wdbZadL"
      },
      "source": [
        "##### Income and Life Expectancy by Total Fertility"
      ]
    },
    {
      "cell_type": "code",
      "metadata": {
        "id": "afG5TpD1Za73"
      },
      "source": [
        "ggplot(country.data, aes(x=income, y=life_expec, col=total_fer)) + geom_point()"
      ],
      "execution_count": null,
      "outputs": []
    },
    {
      "cell_type": "markdown",
      "metadata": {
        "id": "8vbzGdBaTIXX"
      },
      "source": [
        "#### Income and Total Fertility"
      ]
    },
    {
      "cell_type": "markdown",
      "metadata": {
        "id": "YPThuKI4aDgW"
      },
      "source": [
        "##### Income and Total Fertility by Child Mortality"
      ]
    },
    {
      "cell_type": "code",
      "metadata": {
        "id": "dSoWKW5MaMfY"
      },
      "source": [
        "ggplot(country.data, aes(x=income, y=total_fer, col=child_mort)) + \n",
        "  geom_point()"
      ],
      "execution_count": null,
      "outputs": []
    },
    {
      "cell_type": "markdown",
      "metadata": {
        "id": "L0qswTT_aHYw"
      },
      "source": [
        "##### Income and Total Fertility by Life Expectancy"
      ]
    },
    {
      "cell_type": "code",
      "metadata": {
        "id": "-7Ul5pG9p-1_"
      },
      "source": [
        "ggplot(country.data, aes(x=income, y=total_fer, col=life_expec)) + \n",
        "  geom_point()"
      ],
      "execution_count": null,
      "outputs": []
    },
    {
      "cell_type": "markdown",
      "metadata": {
        "id": "sIFysBckTWSM"
      },
      "source": [
        "#### Child Mortality and Life Expectancy"
      ]
    },
    {
      "cell_type": "markdown",
      "metadata": {
        "id": "bbZ1ND4laTbh"
      },
      "source": [
        "##### Child Mortality and Life Expectancy by Income"
      ]
    },
    {
      "cell_type": "code",
      "metadata": {
        "id": "Jq8FbjD_aem-"
      },
      "source": [
        "ggplot(country.data, aes(x=child_mort, y=life_expec, col=income)) + \n",
        "  geom_point()"
      ],
      "execution_count": null,
      "outputs": []
    },
    {
      "cell_type": "markdown",
      "metadata": {
        "id": "1HKxcYAwaYOq"
      },
      "source": [
        "##### Child Mortality and Life Expectancy by Total Fertility"
      ]
    },
    {
      "cell_type": "code",
      "metadata": {
        "id": "iFfvCJyVTW4o"
      },
      "source": [
        " ggplot(country.data, aes(x=child_mort, y=life_expec, col=total_fer)) + \n",
        "  geom_point()"
      ],
      "execution_count": null,
      "outputs": []
    },
    {
      "cell_type": "markdown",
      "metadata": {
        "id": "jSf74z4cThzX"
      },
      "source": [
        "#### Child Mortality and Total Fertility"
      ]
    },
    {
      "cell_type": "markdown",
      "metadata": {
        "id": "MJ_a0hDhamaW"
      },
      "source": [
        "##### Child Mortality and Total Fertility by Income"
      ]
    },
    {
      "cell_type": "code",
      "metadata": {
        "id": "HlZyfqyza0TU"
      },
      "source": [
        "ggplot(country.data, aes(x=child_mort, y=total_fer, col=income)) + \n",
        "  geom_point() # not too interesting"
      ],
      "execution_count": null,
      "outputs": []
    },
    {
      "cell_type": "markdown",
      "metadata": {
        "id": "ECe9vpIXatfe"
      },
      "source": [
        "##### Child Mortality and Total Fertility by Life Expectancy"
      ]
    },
    {
      "cell_type": "code",
      "metadata": {
        "id": "AMIlhGyUTh_m"
      },
      "source": [
        "ggplot(country.data, aes(x=child_mort, y=total_fer, col=life_expec)) + \n",
        "  geom_point()"
      ],
      "execution_count": null,
      "outputs": []
    },
    {
      "cell_type": "markdown",
      "metadata": {
        "id": "_HXpuTINTur2"
      },
      "source": [
        "#### Life Expecatancy and Total Fertility"
      ]
    },
    {
      "cell_type": "markdown",
      "metadata": {
        "id": "lTgmNY81a99_"
      },
      "source": [
        "##### Life Expectancy and Total Fertility by Child Mortality"
      ]
    },
    {
      "cell_type": "code",
      "metadata": {
        "id": "ZjmRDJ12bJOJ"
      },
      "source": [
        "ggplot(country.data, aes(x=life_expec, y=total_fer, col=child_mort)) + \n",
        "  geom_point()"
      ],
      "execution_count": null,
      "outputs": []
    },
    {
      "cell_type": "markdown",
      "metadata": {
        "id": "p7Ox-BB4bDVc"
      },
      "source": [
        "##### Life Expectancy and Total Fertility by Income"
      ]
    },
    {
      "cell_type": "code",
      "metadata": {
        "id": "CgWaQLcXTzoA"
      },
      "source": [
        "ggplot(country.data, aes(x=life_expec, y=total_fer, col=income)) + \n",
        "  geom_point() # not too interesting"
      ],
      "execution_count": null,
      "outputs": []
    },
    {
      "cell_type": "markdown",
      "metadata": {
        "id": "zeYDCxFSVYME"
      },
      "source": [
        "### Life Expectancy, Income, and GDP"
      ]
    },
    {
      "cell_type": "markdown",
      "metadata": {
        "id": "Z1dFEqfIX4Gc"
      },
      "source": [
        "#### Life Expectancy and Income by GDP"
      ]
    },
    {
      "cell_type": "code",
      "metadata": {
        "id": "kUyHiSPQYJjt"
      },
      "source": [
        "ggplot(country.data, aes(x=life_expec, y=income, col=gdpp)) + geom_point()"
      ],
      "execution_count": null,
      "outputs": []
    },
    {
      "cell_type": "markdown",
      "metadata": {
        "id": "BHaVBVK4X_58"
      },
      "source": [
        "#### Life Expectancy and GDP by Income"
      ]
    },
    {
      "cell_type": "code",
      "metadata": {
        "id": "hCMLMDx5YMfD"
      },
      "source": [
        "ggplot(country.data, aes(x=life_expec, y=gdpp, col=income)) + geom_point()"
      ],
      "execution_count": null,
      "outputs": []
    },
    {
      "cell_type": "markdown",
      "metadata": {
        "id": "Xw_niEvrYEZY"
      },
      "source": [
        "#### Income and GDP by Life Expectancy"
      ]
    },
    {
      "cell_type": "code",
      "metadata": {
        "id": "_qShNSefXAKm"
      },
      "source": [
        "ggplot(country.data, aes(x=income, y=gdpp, col=life_expec)) + geom_point()"
      ],
      "execution_count": null,
      "outputs": []
    },
    {
      "cell_type": "markdown",
      "metadata": {
        "id": "Pc5PoYqViBAF"
      },
      "source": [
        "# **PCA**"
      ]
    },
    {
      "cell_type": "markdown",
      "metadata": {
        "id": "2cu8wka_iPpx"
      },
      "source": [
        "Apply PCA using all nine features from the dataset to see the percent of variance of the first two principle components, since k-means clustering would only utilize the first two PC's. "
      ]
    },
    {
      "cell_type": "code",
      "metadata": {
        "id": "btyYKHZFgtT0"
      },
      "source": [
        "names(country.data)"
      ],
      "execution_count": null,
      "outputs": []
    },
    {
      "cell_type": "code",
      "metadata": {
        "id": "4gyFZKzug4op"
      },
      "source": [
        "apply(country.data, 2, mean)\n",
        "apply(country.data, 2, var)"
      ],
      "execution_count": null,
      "outputs": []
    },
    {
      "cell_type": "code",
      "metadata": {
        "id": "p5GvvzXuhDBZ"
      },
      "source": [
        "# normalize the dataset due to great varying differences in variance between the features\n",
        "\n",
        "country.pc <- prcomp(country.data, scale = TRUE)\n",
        "summary(country.pc)"
      ],
      "execution_count": null,
      "outputs": []
    },
    {
      "cell_type": "code",
      "metadata": {
        "id": "mjqczJHEhkkb"
      },
      "source": [
        "country.pc$rotation"
      ],
      "execution_count": null,
      "outputs": []
    },
    {
      "cell_type": "code",
      "metadata": {
        "id": "YHix2-APhoLd"
      },
      "source": [
        "# visualize the first two PC's\n",
        "biplot(country.pc, choice=1:2, scale=0, cex=0.6)"
      ],
      "execution_count": null,
      "outputs": []
    },
    {
      "cell_type": "code",
      "metadata": {
        "id": "Pqa-SyeljQdW"
      },
      "source": [
        "# visualize the second two PC's\n",
        "biplot(country.pc, choice=2:3, scale=0, cex=0.6)"
      ],
      "execution_count": null,
      "outputs": []
    },
    {
      "cell_type": "code",
      "metadata": {
        "id": "7y8fNnLEjfjy"
      },
      "source": [
        "# use scree plot to determine optimal number of PC's to use\n",
        "plot(seq_len(ncol(countries2)),prcomp(countries2)$sdev^2,type=\"b\",xlab=\"PC Number\",\n",
        "     ylab=\"Variance\")"
      ],
      "execution_count": null,
      "outputs": []
    },
    {
      "cell_type": "markdown",
      "metadata": {
        "id": "ncyDRYocjo8R"
      },
      "source": [
        "According to the scree plot, we should use only 2 PC's since the elbow appears at 2. (Dr. Risk has said he hates scree plots tho...)"
      ]
    },
    {
      "cell_type": "code",
      "metadata": {
        "id": "5KhQ--pvhrR8"
      },
      "source": [
        "# compute variance for each PC\n",
        "country.pc$sdev\n",
        "pr.var <- country.pc$sdev^2\n",
        "pr.var"
      ],
      "execution_count": null,
      "outputs": []
    },
    {
      "cell_type": "code",
      "metadata": {
        "id": "rHf_69O7hvJb"
      },
      "source": [
        "# proportion of variance explained\n",
        "pve <- pr.var/sum(pr.var)\n",
        "pve"
      ],
      "execution_count": null,
      "outputs": []
    },
    {
      "cell_type": "code",
      "metadata": {
        "id": "WVq_I_GQhyST"
      },
      "source": [
        "plot(pve, xlab=\"Principle Component\", ylab=\"Proportion of Variance Explained\", \n",
        "  ylim = c(0,1), type='b') "
      ],
      "execution_count": null,
      "outputs": []
    },
    {
      "cell_type": "code",
      "metadata": {
        "id": "OowcxU5Sh1vK"
      },
      "source": [
        "plot(cumsum(pve), xlab=\"Principle Component\", ylab=\"Cumulative Proportion of \n",
        "  Variance Explained\", ylim = c(0,1), type='b')"
      ],
      "execution_count": null,
      "outputs": []
    },
    {
      "cell_type": "markdown",
      "metadata": {
        "id": "Xz2rteKni4et"
      },
      "source": [
        "The results are not that good since the first two PC's only account for 63.13 percent of the variance. The first three PC's account for 76.14 percent of the variance and the first four PC's account for 87.16 percent of the variance."
      ]
    },
    {
      "cell_type": "code",
      "metadata": {
        "id": "ktCw-R9JD-Uy"
      },
      "source": [
        "# ----- K-means clustering with first 3 PCs -----\n",
        "\n",
        "PC1 <- prcomp(countries2,scale.=TRUE)$x[,1] # PC1\n",
        "PC2 <- prcomp(countries2,scale.=TRUE)$x[,2] #PC2\n",
        "PC3 <- prcomp(countries2,scale.=TRUE)$x[,3] #PC3\n",
        "\n",
        "countries2.pc.data <- cbind(PC1, PC2, PC3)\n",
        "\n",
        "k2 <- kmeans(countries2.pc.data, 2, nstart = 25)\n",
        "k3 <- kmeans(countries2.pc.data, 3, nstart = 25)\n",
        "k4 <- kmeans(countries2.pc.data, 4, nstart = 25)\n",
        "k5 <- kmeans(countries2.pc.data, 5, nstart = 25)\n",
        "k6 <- kmeans(countries2.pc.data, 6, nstart = 25)\n",
        "\n",
        "# plots to compare\n",
        "p1 <- fviz_cluster(k2, geom = \"point\", data = countries2) + ggtitle(\"k = 2\")\n",
        "p2 <- fviz_cluster(k3, geom = \"point\",  data = countries2) + ggtitle(\"k = 3\")\n",
        "p3 <- fviz_cluster(k4, geom = \"point\",  data = countries2) + ggtitle(\"k = 4\")\n",
        "p4 <- fviz_cluster(k5, geom = \"point\",  data = countries2) + ggtitle(\"k = 5\")\n",
        "\n",
        "library(gridExtra)\n",
        "grid.arrange(p1, p2, p3, p4, nrow = 2)\n",
        "\n",
        "\n",
        "# visual of scatterplots of clusters\n",
        "k2.clusters <- as.vector(k2$cluster)\n",
        "countries2.k2 <- cbind(countries2, k2.clusters)\n",
        "plot(countries2.k2[,1:9], pch=20, col=k2.clusters)\n",
        "\n",
        "k3.clusters <- as.vector(k3$cluster)\n",
        "countries2.k3 <- cbind(countries2, k3.clusters)\n",
        "plot(countries2.k3[,1:9], pch=20, col=k3.clusters)\n",
        "\n",
        "# this looks like the best option\n",
        "k4.clusters <- as.vector(k4$cluster)\n",
        "countries2.k4 <- cbind(countries2, k4.clusters)\n",
        "plot(countries2.k4[,1:9], pch=20, col=k4.clusters)\n",
        "\n",
        "# ----- Determine Optimal k for k-means Clustering -----\n",
        "\n",
        "# ----- Elbow Method (Total Within Sum of Squares) -----\n",
        "\n",
        "elbow <- fviz_nbclust(countries2.pc.data, kmeans, method = \"wss\") +\n",
        "  theme(axis.text.x = element_text(size = 8)) +\n",
        "  theme(axis.text=element_text(size=8),\n",
        "        axis.title=element_text(size=8,face=\"bold\")) +\n",
        "  theme(plot.title = element_text(size=12,face=\"bold\"))\n",
        "\n",
        "\n",
        "# ----- Average Silhouette (Average Silhoutte Width) -----\n",
        "\n",
        "sil <- fviz_nbclust(countries2.pc.data, kmeans, method = \"silhouette\") +\n",
        "  theme(axis.text.x = element_text(size = 8)) +\n",
        "  theme(axis.text=element_text(size=8),\n",
        "        axis.title=element_text(size=8,face=\"bold\")) +\n",
        "  theme(plot.title = element_text(size=12,face=\"bold\"))\n",
        "\n",
        "\n",
        "# ----- Gap Statistic Method -----\n",
        "\n",
        "gap <- fviz_nbclust(countries2.pc.data, kmeans, method = \"gap_stat\") +\n",
        "  theme(axis.text.x = element_text(size = 8)) +\n",
        "  theme(axis.text=element_text(size=8),\n",
        "        axis.title=element_text(size=8,face=\"bold\")) +\n",
        "  theme(plot.title = element_text(size=12,face=\"bold\"))\n",
        "\n",
        "ggarrange(elbow, sil, gap, nrow=1)\n",
        "\n",
        "\n",
        "# ----- Final K-Means Clustering Model -----\n",
        "\n",
        "# use k=2 for k-means clustering algorithm\n",
        "set.seed(123)\n",
        "k2 <- kmeans(countries2.pc.data, 2, nstart = 25)\n",
        "\n",
        "# final scatterplot visual of clusters\n",
        "k2.clusters <- as.vector(k2$cluster)\n",
        "countries2.k2 <- cbind(countries2, k2.clusters)\n",
        "plot(countries2.k2[,1:9], pch=20, col=k2.clusters)\n",
        "\n",
        "\n",
        "# determine which countries are in which cluster\n",
        "rownames(countries2) <- countries[,1]\n",
        "country <- row.names(countries2)\n",
        "cbind(country, k2.clusters)\n",
        "\n",
        "# Order colors are added: black, red\n",
        "country[k2.clusters == \"1\"] # 90 countries\n",
        "country[k2.clusters == \"2\"] # 77 countries\n",
        "\n",
        "# The results using only three PC's were not good. The clustering algorithm did a poor job \n",
        "# clustering the countries.\n",
        "\n"
      ],
      "execution_count": null,
      "outputs": []
    },
    {
      "cell_type": "code",
      "metadata": {
        "id": "I-ZRCvvpEEbB"
      },
      "source": [
        "# ----- K-means clustering with first 4 PCs -----\n",
        "\n",
        "PC1 <- prcomp(countries2,scale.=TRUE)$x[,1] # PC1\n",
        "PC2 <- prcomp(countries2,scale.=TRUE)$x[,2] #PC2\n",
        "PC3 <- prcomp(countries2,scale.=TRUE)$x[,3] #PC3\n",
        "PC4 <- prcomp(countries2,scale.=TRUE)$x[,4] #PC4\n",
        "\n",
        "countries2.pc.data <- cbind(PC1, PC2, PC3, PC4)\n",
        "\n",
        "k2 <- kmeans(countries2.pc.data, 2, nstart = 25)\n",
        "k3 <- kmeans(countries2.pc.data, 3, nstart = 25)\n",
        "k4 <- kmeans(countries2.pc.data, 4, nstart = 25)\n",
        "k5 <- kmeans(countries2.pc.data, 5, nstart = 25)\n",
        "k6 <- kmeans(countries2.pc.data, 6, nstart = 25)\n",
        "\n",
        "# plots to compare\n",
        "p1 <- fviz_cluster(k2, geom = \"point\", data = countries2) + ggtitle(\"k = 2\")\n",
        "p2 <- fviz_cluster(k3, geom = \"point\",  data = countries2) + ggtitle(\"k = 3\")\n",
        "p3 <- fviz_cluster(k4, geom = \"point\",  data = countries2) + ggtitle(\"k = 4\")\n",
        "p4 <- fviz_cluster(k5, geom = \"point\",  data = countries2) + ggtitle(\"k = 5\")\n",
        "\n",
        "library(gridExtra)\n",
        "grid.arrange(p1, p2, p3, p4, nrow = 2)\n",
        "\n",
        "\n",
        "# visual of scatterplots of clusters\n",
        "k2.clusters <- as.vector(k2$cluster)\n",
        "countries2.k2 <- cbind(countries2, k2.clusters)\n",
        "plot(countries2.k2[,1:9], pch=20, col=k2.clusters)\n",
        "\n",
        "k3.clusters <- as.vector(k3$cluster)\n",
        "countries2.k3 <- cbind(countries2, k3.clusters)\n",
        "plot(countries2.k3[,1:9], pch=20, col=k3.clusters)\n",
        "\n",
        "# this looks like the best option\n",
        "k4.clusters <- as.vector(k4$cluster)\n",
        "countries2.k4 <- cbind(countries2, k4.clusters)\n",
        "plot(countries2.k4[,1:9], pch=20, col=k4.clusters)\n",
        "\n",
        "# ----- Determine Optimal k for k-means Clustering -----\n",
        "\n",
        "# ----- Elbow Method (Total Within Sum of Squares) -----\n",
        "\n",
        "elbow <- fviz_nbclust(countries2.pc.data, kmeans, method = \"wss\") +\n",
        "  theme(axis.text.x = element_text(size = 8)) +\n",
        "  theme(axis.text=element_text(size=8),\n",
        "        axis.title=element_text(size=8,face=\"bold\")) +\n",
        "  theme(plot.title = element_text(size=12,face=\"bold\"))\n",
        "\n",
        "\n",
        "# ----- Average Silhouette (Average Silhoutte Width) -----\n",
        "\n",
        "sil <- fviz_nbclust(countries2.pc.data, kmeans, method = \"silhouette\") +\n",
        "  theme(axis.text.x = element_text(size = 8)) +\n",
        "  theme(axis.text=element_text(size=8),\n",
        "        axis.title=element_text(size=8,face=\"bold\")) +\n",
        "  theme(plot.title = element_text(size=12,face=\"bold\"))\n",
        "\n",
        "\n",
        "# ----- Gap Statistic Method -----\n",
        "\n",
        "gap <- fviz_nbclust(countries2.pc.data, kmeans, method = \"gap_stat\") +\n",
        "  theme(axis.text.x = element_text(size = 8)) +\n",
        "  theme(axis.text=element_text(size=8),\n",
        "        axis.title=element_text(size=8,face=\"bold\")) +\n",
        "  theme(plot.title = element_text(size=12,face=\"bold\"))\n",
        "\n",
        "ggarrange(elbow, sil, gap, nrow=1)\n",
        "\n",
        "\n",
        "# ----- Final K-Means Clustering Model -----\n",
        "\n",
        "# use k=2 for k-means clustering algorithm\n",
        "set.seed(123)\n",
        "k4 <- kmeans(countries2.pc.data, 4, nstart = 25)\n",
        "\n",
        "# final scatterplot visual of clusters\n",
        "k4.clusters <- as.vector(k4$cluster)\n",
        "countries2.k4 <- cbind(countries2, k4.clusters)\n",
        "plot(countries2.k4[,1:9], pch=20, col=k4.clusters)\n",
        "\n",
        "\n",
        "# determine which countries are in which cluster\n",
        "rownames(countries2) <- countries[,1]\n",
        "country <- row.names(countries2)\n",
        "cbind(country, k4.clusters)\n",
        "\n",
        "# Order colors are added: black, red\n",
        "country[k4.clusters == \"1\"] # 30 countries\n",
        "country[k4.clusters == \"2\"] # 86 countries\n",
        "country[k4.clusters == \"3\"] # 48 countries\n",
        "country[k4.clusters == \"4\"] # 3 countries\n",
        "\n",
        "# After the poor results with only using three PC's, we tried using four. The\n",
        "# results were significantly better and were quite similar to the results when\n",
        "# using only the first two PC's and then clustering the countries into four groups. "
      ],
      "execution_count": null,
      "outputs": []
    },
    {
      "cell_type": "markdown",
      "metadata": {
        "id": "VDXRBVlv5Iit"
      },
      "source": [
        "# **K-Means Clustering** "
      ]
    },
    {
      "cell_type": "markdown",
      "metadata": {
        "id": "tEVwubWGSzNh"
      },
      "source": [
        "## K-Means Clustering with all features"
      ]
    },
    {
      "cell_type": "code",
      "metadata": {
        "colab": {
          "base_uri": "https://localhost:8080/",
          "height": 207
        },
        "id": "egTuF4C3u3Ey",
        "outputId": "524f0952-dd80-4964-e3e3-78a313fbedf8"
      },
      "source": [
        "head(country.data)"
      ],
      "execution_count": null,
      "outputs": [
        {
          "output_type": "display_data",
          "data": {
            "text/plain": [
              "  child_mort exports health imports income inflation life_expec total_fer gdpp \n",
              "1  90.2      10.0    7.58   44.9     1610   9.44     56.2       5.82        553\n",
              "2  16.6      28.0    6.55   48.6     9930   4.49     76.3       1.65       4090\n",
              "3  27.3      38.4    4.17   31.4    12900  16.10     76.5       2.89       4460\n",
              "4 119.0      62.3    2.85   42.9     5900  22.40     60.1       6.16       3530\n",
              "5  10.3      45.5    6.03   58.9    19100   1.44     76.8       2.13      12200\n",
              "6  14.5      18.9    8.10   16.0    18700  20.90     75.8       2.37      10300"
            ],
            "text/latex": "A data.frame: 6 × 9\n\\begin{tabular}{r|lllllllll}\n  & child\\_mort & exports & health & imports & income & inflation & life\\_expec & total\\_fer & gdpp\\\\\n  & <dbl> & <dbl> & <dbl> & <dbl> & <int> & <dbl> & <dbl> & <dbl> & <int>\\\\\n\\hline\n\t1 &  90.2 & 10.0 & 7.58 & 44.9 &  1610 &  9.44 & 56.2 & 5.82 &   553\\\\\n\t2 &  16.6 & 28.0 & 6.55 & 48.6 &  9930 &  4.49 & 76.3 & 1.65 &  4090\\\\\n\t3 &  27.3 & 38.4 & 4.17 & 31.4 & 12900 & 16.10 & 76.5 & 2.89 &  4460\\\\\n\t4 & 119.0 & 62.3 & 2.85 & 42.9 &  5900 & 22.40 & 60.1 & 6.16 &  3530\\\\\n\t5 &  10.3 & 45.5 & 6.03 & 58.9 & 19100 &  1.44 & 76.8 & 2.13 & 12200\\\\\n\t6 &  14.5 & 18.9 & 8.10 & 16.0 & 18700 & 20.90 & 75.8 & 2.37 & 10300\\\\\n\\end{tabular}\n",
            "text/markdown": "\nA data.frame: 6 × 9\n\n| <!--/--> | child_mort &lt;dbl&gt; | exports &lt;dbl&gt; | health &lt;dbl&gt; | imports &lt;dbl&gt; | income &lt;int&gt; | inflation &lt;dbl&gt; | life_expec &lt;dbl&gt; | total_fer &lt;dbl&gt; | gdpp &lt;int&gt; |\n|---|---|---|---|---|---|---|---|---|---|\n| 1 |  90.2 | 10.0 | 7.58 | 44.9 |  1610 |  9.44 | 56.2 | 5.82 |   553 |\n| 2 |  16.6 | 28.0 | 6.55 | 48.6 |  9930 |  4.49 | 76.3 | 1.65 |  4090 |\n| 3 |  27.3 | 38.4 | 4.17 | 31.4 | 12900 | 16.10 | 76.5 | 2.89 |  4460 |\n| 4 | 119.0 | 62.3 | 2.85 | 42.9 |  5900 | 22.40 | 60.1 | 6.16 |  3530 |\n| 5 |  10.3 | 45.5 | 6.03 | 58.9 | 19100 |  1.44 | 76.8 | 2.13 | 12200 |\n| 6 |  14.5 | 18.9 | 8.10 | 16.0 | 18700 | 20.90 | 75.8 | 2.37 | 10300 |\n\n",
            "text/html": [
              "<table>\n",
              "<caption>A data.frame: 6 × 9</caption>\n",
              "<thead>\n",
              "\t<tr><th></th><th scope=col>child_mort</th><th scope=col>exports</th><th scope=col>health</th><th scope=col>imports</th><th scope=col>income</th><th scope=col>inflation</th><th scope=col>life_expec</th><th scope=col>total_fer</th><th scope=col>gdpp</th></tr>\n",
              "\t<tr><th></th><th scope=col>&lt;dbl&gt;</th><th scope=col>&lt;dbl&gt;</th><th scope=col>&lt;dbl&gt;</th><th scope=col>&lt;dbl&gt;</th><th scope=col>&lt;int&gt;</th><th scope=col>&lt;dbl&gt;</th><th scope=col>&lt;dbl&gt;</th><th scope=col>&lt;dbl&gt;</th><th scope=col>&lt;int&gt;</th></tr>\n",
              "</thead>\n",
              "<tbody>\n",
              "\t<tr><th scope=row>1</th><td> 90.2</td><td>10.0</td><td>7.58</td><td>44.9</td><td> 1610</td><td> 9.44</td><td>56.2</td><td>5.82</td><td>  553</td></tr>\n",
              "\t<tr><th scope=row>2</th><td> 16.6</td><td>28.0</td><td>6.55</td><td>48.6</td><td> 9930</td><td> 4.49</td><td>76.3</td><td>1.65</td><td> 4090</td></tr>\n",
              "\t<tr><th scope=row>3</th><td> 27.3</td><td>38.4</td><td>4.17</td><td>31.4</td><td>12900</td><td>16.10</td><td>76.5</td><td>2.89</td><td> 4460</td></tr>\n",
              "\t<tr><th scope=row>4</th><td>119.0</td><td>62.3</td><td>2.85</td><td>42.9</td><td> 5900</td><td>22.40</td><td>60.1</td><td>6.16</td><td> 3530</td></tr>\n",
              "\t<tr><th scope=row>5</th><td> 10.3</td><td>45.5</td><td>6.03</td><td>58.9</td><td>19100</td><td> 1.44</td><td>76.8</td><td>2.13</td><td>12200</td></tr>\n",
              "\t<tr><th scope=row>6</th><td> 14.5</td><td>18.9</td><td>8.10</td><td>16.0</td><td>18700</td><td>20.90</td><td>75.8</td><td>2.37</td><td>10300</td></tr>\n",
              "</tbody>\n",
              "</table>\n"
            ]
          },
          "metadata": {
            "tags": []
          }
        }
      ]
    },
    {
      "cell_type": "code",
      "metadata": {
        "colab": {
          "base_uri": "https://localhost:8080/",
          "height": 151
        },
        "id": "gpZ7lpgQS0Ad",
        "outputId": "51689482-cbf8-4720-897c-2adfd82046f0"
      },
      "source": [
        "# ----- K-Means Clustering -----\n",
        "\n",
        "countries2 <- country.data\n",
        "\n",
        "countries2.scaled <- scale(countries2)\n",
        "\n",
        "# k-means clustering where k=2\n",
        "k2 <- kmeans(countries2.scaled, 2, nstart = 25)\n",
        "\n",
        "# k-means clustering where k = 3\n",
        "k3 <- kmeans(countries2.scaled, 3, nstart = 25)\n",
        "\n",
        "# k-means clustering where k = 4\n",
        "k4 <- kmeans(countries2.scaled, 4, nstart = 25)\n",
        "\n",
        "# k-means clustering where k = 5\n",
        "k5 <- kmeans(countries2.scaled, 5, nstart = 25)\n",
        "\n",
        "# k-means clustering where k = 6\n",
        "k6 <- kmeans(countries2.scaled, 6, nstart = 25)\n",
        "\n",
        "\n",
        "# # plots to compare\n",
        "# p1 <- fviz_cluster(k2, geom = \"point\", data = countries2) + ggtitle(\"k = 2\")\n",
        "# p2 <- fviz_cluster(k3, geom = \"point\",  data = countries2) + ggtitle(\"k = 3\")\n",
        "# p3 <- fviz_cluster(k4, geom = \"point\",  data = countries2) + ggtitle(\"k = 4\")\n",
        "# p4 <- fviz_cluster(k5, geom = \"point\",  data = countries2) + ggtitle(\"k = 5\")\n",
        "\n",
        "# library(gridExtra)\n",
        "# grid.arrange(p1, p2, p3, p4, nrow = 2)\n",
        "\n",
        "# # ----- Determine Optimal k for k-means Clustering -----\n",
        "\n",
        "# # ----- Elbow Method (Total Within Sum of Squares) -----\n",
        "\n",
        "\n",
        "# elbow <- fviz_nbclust(countries2.scaled, kmeans, method = \"wss\") + \n",
        "#   theme(axis.text.x = element_text(size = 8)) +\n",
        "#   theme(axis.text=element_text(size=8),\n",
        "#         axis.title=element_text(size=8,face=\"bold\")) +\n",
        "#   theme(plot.title = element_text(size=12,face=\"bold\"))\n",
        "\n",
        "# # ----- Average Silhouette (Average Silhoutte Width) -----\n",
        "\n",
        "# sil <- fviz_nbclust(countries2.scaled, kmeans, method = \"silhouette\") + \n",
        "#   theme(axis.text.x = element_text(size = 8)) +\n",
        "#   theme(axis.text=element_text(size=8),\n",
        "#         axis.title=element_text(size=8,face=\"bold\")) +\n",
        "#   theme(plot.title = element_text(size=12,face=\"bold\"))\n",
        "\n",
        "# # ----- Gap Statistic Method -----\n",
        "\n",
        "# gap <- fviz_nbclust(countries2.scaled, kmeans, method = \"gap_stat\") + \n",
        "#   theme(axis.text.x = element_text(size = 8)) +\n",
        "#   theme(axis.text=element_text(size=8),\n",
        "#         axis.title=element_text(size=8,face=\"bold\")) +\n",
        "#   theme(plot.title = element_text(size=12,face=\"bold\"))\n",
        "\n",
        "# ggarrange(elbow, sil, gap, nrow=1)\n",
        "\n",
        "# ----- Final K-Means Clustering Model -----\n",
        "\n",
        "# use k=4 for k-means clustering algorithm\n",
        "set.seed(123)\n",
        "k4 <- kmeans(countries2.scaled, 4, nstart = 25)\n",
        "\n",
        "# final scatterplot visual of clusters\n",
        "k4.clusters <- as.vector(k4$cluster)\n",
        "k4.clusters$col <- if(k4.clusters == 1, 'red')\n",
        "k4.clusters$col\n",
        "countries2.k4 <- cbind(countries2, k4.clusters)\n",
        "pairs(countries2.k4[,1:9], pch=20, col=k4.clusters)\n",
        "\n",
        "\n",
        "# determine which countries are in which cluster\n",
        "country <- country.names\n",
        "country <- cbind(country, k4.clusters)\n",
        "head(country)\n",
        "\n",
        "country[k4.clusters == 1, 1] # black\n",
        "length(country[k4.clusters == 1, 1])\n",
        "print('---------')\n",
        "country[k4.clusters == 2, 1] # red\n",
        "length(country[k4.clusters == 2, 1])\n",
        "print('---------')\n",
        "country[k4.clusters == 3, 1] # green\n",
        "length(country[k4.clusters == 3, 1])\n",
        "print('---------')\n",
        "country[k4.clusters == 4, 1] # blue\n",
        "length(country[k4.clusters == 4, 1])\n",
        "\n",
        "# Child mortality tends to be loswest for the countries in clusters 1 and 3.\n",
        "# Whereas, the countries in cluster 4 have the second highest and countries in\n",
        "# cluster 2 have the highest rate of death of children under the age 5 per 1000\n",
        "# births.\n",
        "\n",
        "# Countries in cluster 1 tends to have the most exports and imports with clusters\n",
        "# 2,3, and 4 having around the same amount of exports and imports\n",
        "\n",
        "# Countries in cluster 3 tend to have a slightly higher total health spending per\n",
        "# capita compared to countries in clusters 1, 2, and 4. \n",
        "\n",
        "# Net income per person tends to be the highest for countries in cluster 1 and 3. \n",
        "# Countries in the fourth cluster have the second lowest net income per person\n",
        "# and countries in cluster 2 have the lowest income per person.\n",
        "\n",
        "# Countries in cluster 2 have the highest rates of inflation, with countries in \n",
        "# cluster 4 have the second highest rates of inflation, and with countries in\n",
        "# cluster 1 and 3 having the lowest rates of inflation.\n",
        "\n",
        "# The life expectancy is the highest for those living in countries in cluster 1.\n",
        "# Countries in cluster 3 have the second highest life expectancy, followed by \n",
        "# countries in cluster 4. Finally, the life expectancy is the lowest for those living \n",
        "# countries in cluster 2. \n",
        "\n",
        "# Total fertility is the highest for countries in cluster 2, followed by countries  \n",
        "# in cluster 4, then countries in cluster 3, and then countries in cluster 1.\n",
        "\n",
        "# GDP tends to be the highest for countries in clusters 1 and 3. Countries in\n",
        "# cluster 4 have the third highest GDP. Lastly, countries in cluster 2 have the\n",
        "# lowest GDP. \n",
        "\n",
        "\n",
        "# first world - black and green \n",
        "# second world - blue\n",
        "# third world - red \n",
        "\n",
        "\n",
        "\n",
        "\n",
        "\n"
      ],
      "execution_count": null,
      "outputs": [
        {
          "output_type": "error",
          "ename": "ERROR",
          "evalue": "ignored",
          "traceback": [
            "Error in parse(text = x, srcfile = src): <text>:69:39: unexpected ','\n68: k4.clusters <- as.vector(k4$cluster)\n69: k4.clusters$col <- if(k4.clusters == 1,\n                                          ^\nTraceback:\n"
          ]
        }
      ]
    },
    {
      "cell_type": "markdown",
      "metadata": {
        "id": "hibrPDUDtvhh"
      },
      "source": [
        "Using k-means clustering to categorize countries based off of socio-economic and health factors, we find that there are four groups that categorize the development of the countries. The countries in the first group, Luxembourg, Malta, and Singapore, tend to have the best socio-economic and health conditions. These countries are represented by the black points.\n",
        "\n",
        "The next group contains countries like Australia, Canada, France, the UK, and the US for example. These countries tend to have good socio-economic and health conditions that are not as good as the conditions of the first group of countries, but better than the other two groups. These countries are represented by the green points.\n",
        "\n",
        "We consider the countries of the first two groups to be first-world countries, since first-world countries are characterized by a stable economy and a high standard of living. \n",
        "\n",
        "The group of countries consisting of China, Hungary, Poland, and Russia for \n",
        "example, tend to have worse socio-economic and health conditions than the first two groups of countries. However, this group of country tends to have better conditions than the last group of countries. We will consider this group of countries to be second-world countries and are represented by the blue points.\n",
        "\n",
        "Lastly, the fourth group of countries has the worst socio-economic and health conditions of all four groups of countries. Countries in this group consist of Afghanistan, Haiti, Iraq, Kenya, and Nigeria, for example. These countries will be considered third-world countries and are represented by the red points."
      ]
    },
    {
      "cell_type": "markdown",
      "metadata": {
        "id": "qD0wrK-ws9en"
      },
      "source": [
        "## K-Means on whole dataset mayb :^)"
      ]
    },
    {
      "cell_type": "code",
      "metadata": {
        "id": "aCknZietso_g"
      },
      "source": [
        "\n",
        "set.seed(123)\n",
        "countries2.scaled <- scale(country.data)\n",
        "\n",
        "# k-means clustering where k=2\n",
        "k2 <- kmeans(countries2.scaled, 2, nstart = 25)\n",
        "\n",
        "# k-means clustering where k = 3\n",
        "k3 <- kmeans(countries2.scaled, 3, nstart = 25)\n",
        "\n",
        "# k-means clustering where k = 4\n",
        "k4 <- kmeans(countries2.scaled, 4, nstart = 25)\n",
        "\n",
        "# k-means clustering where k = 5\n",
        "k5 <- kmeans(countries2.scaled, 5, nstart = 25)\n",
        "\n",
        "# plots to compare\n",
        "p1 <- fviz_cluster(k2, geom = \"point\", data = country.data) + ggtitle(\"k = 2\")\n",
        "p2 <- fviz_cluster(k3, geom = \"point\",  data = country.data) + ggtitle(\"k = 3\")\n",
        "p3 <- fviz_cluster(k4, geom = \"point\",  data = country.data) + ggtitle(\"k = 4\")\n",
        "p4 <- fviz_cluster(k5, geom = \"point\",  data = country.data) + ggtitle(\"k = 5\")\n",
        "\n",
        "library(gridExtra)\n",
        "grid.arrange(p1, p2, p3, p4, nrow = 2)"
      ],
      "execution_count": null,
      "outputs": []
    },
    {
      "cell_type": "markdown",
      "metadata": {
        "id": "N1tYYmDoge-t"
      },
      "source": []
    },
    {
      "cell_type": "code",
      "metadata": {
        "colab": {
          "base_uri": "https://localhost:8080/",
          "height": 437
        },
        "id": "ruZAaDrnt3QZ",
        "outputId": "70e8276f-46fa-4997-f6e0-aafb38569931"
      },
      "source": [
        "set.seed(123)\n",
        "\n",
        "# elbow method\n",
        "p1<-fviz_nbclust(countries2.scaled, kmeans, method = \"wss\")\n",
        "\n",
        "# average silhoutte method\n",
        "p2<-fviz_nbclust(countries2.scaled, kmeans, method = \"silhouette\")\n",
        "\n",
        "# gap statistic method\n",
        "p3<-fviz_nbclust(countries2.scaled, kmeans, method = \"gap_stat\")\n",
        "cowplot::plot_grid(p1,p2,p3, ncol=3)"
      ],
      "execution_count": null,
      "outputs": [
        {
          "output_type": "display_data",
          "data": {
            "image/png": "[encoded data removed]",
            "text/plain": [
              "plot without title"
            ]
          },
          "metadata": {
            "tags": [],
            "image/png": {
              "height": 420,
              "width": 420
            }
          }
        }
      ]
    },
    {
      "cell_type": "code",
      "metadata": {
        "id": "t0Qe3DPzuVJb",
        "colab": {
          "base_uri": "https://localhost:8080/",
          "height": 225
        },
        "outputId": "6339b47b-300f-49df-a38c-77197e9ced84"
      },
      "source": [
        "head(countries2.k4[1:4])\n",
        "head(country.data)"
      ],
      "execution_count": null,
      "outputs": [
        {
          "output_type": "display_data",
          "data": {
            "text/plain": [
              "[1]  1.2876597 -0.5373329 -0.2720146  2.0017872"
            ],
            "text/latex": "\\begin{enumerate*}\n\\item 1.28765970832128\n\\item -0.537332855003158\n\\item -0.272014642672023\n\\item 2.00178723310041\n\\end{enumerate*}\n",
            "text/markdown": "1. 1.28765970832128\n2. -0.537332855003158\n3. -0.272014642672023\n4. 2.00178723310041\n\n\n",
            "text/html": [
              "<style>\n",
              ".list-inline {list-style: none; margin:0; padding: 0}\n",
              ".list-inline>li {display: inline-block}\n",
              ".list-inline>li:not(:last-child)::after {content: \"\\00b7\"; padding: 0 .5ex}\n",
              "</style>\n",
              "<ol class=list-inline><li>1.28765970832128</li><li>-0.537332855003158</li><li>-0.272014642672023</li><li>2.00178723310041</li></ol>\n"
            ]
          },
          "metadata": {
            "tags": []
          }
        },
        {
          "output_type": "display_data",
          "data": {
            "text/plain": [
              "  child_mort exports health imports income inflation life_expec total_fer gdpp \n",
              "1  90.2      10.0    7.58   44.9     1610   9.44     56.2       5.82        553\n",
              "2  16.6      28.0    6.55   48.6     9930   4.49     76.3       1.65       4090\n",
              "3  27.3      38.4    4.17   31.4    12900  16.10     76.5       2.89       4460\n",
              "4 119.0      62.3    2.85   42.9     5900  22.40     60.1       6.16       3530\n",
              "5  10.3      45.5    6.03   58.9    19100   1.44     76.8       2.13      12200\n",
              "6  14.5      18.9    8.10   16.0    18700  20.90     75.8       2.37      10300"
            ],
            "text/latex": "A data.frame: 6 × 9\n\\begin{tabular}{r|lllllllll}\n  & child\\_mort & exports & health & imports & income & inflation & life\\_expec & total\\_fer & gdpp\\\\\n  & <dbl> & <dbl> & <dbl> & <dbl> & <int> & <dbl> & <dbl> & <dbl> & <int>\\\\\n\\hline\n\t1 &  90.2 & 10.0 & 7.58 & 44.9 &  1610 &  9.44 & 56.2 & 5.82 &   553\\\\\n\t2 &  16.6 & 28.0 & 6.55 & 48.6 &  9930 &  4.49 & 76.3 & 1.65 &  4090\\\\\n\t3 &  27.3 & 38.4 & 4.17 & 31.4 & 12900 & 16.10 & 76.5 & 2.89 &  4460\\\\\n\t4 & 119.0 & 62.3 & 2.85 & 42.9 &  5900 & 22.40 & 60.1 & 6.16 &  3530\\\\\n\t5 &  10.3 & 45.5 & 6.03 & 58.9 & 19100 &  1.44 & 76.8 & 2.13 & 12200\\\\\n\t6 &  14.5 & 18.9 & 8.10 & 16.0 & 18700 & 20.90 & 75.8 & 2.37 & 10300\\\\\n\\end{tabular}\n",
            "text/markdown": "\nA data.frame: 6 × 9\n\n| <!--/--> | child_mort &lt;dbl&gt; | exports &lt;dbl&gt; | health &lt;dbl&gt; | imports &lt;dbl&gt; | income &lt;int&gt; | inflation &lt;dbl&gt; | life_expec &lt;dbl&gt; | total_fer &lt;dbl&gt; | gdpp &lt;int&gt; |\n|---|---|---|---|---|---|---|---|---|---|\n| 1 |  90.2 | 10.0 | 7.58 | 44.9 |  1610 |  9.44 | 56.2 | 5.82 |   553 |\n| 2 |  16.6 | 28.0 | 6.55 | 48.6 |  9930 |  4.49 | 76.3 | 1.65 |  4090 |\n| 3 |  27.3 | 38.4 | 4.17 | 31.4 | 12900 | 16.10 | 76.5 | 2.89 |  4460 |\n| 4 | 119.0 | 62.3 | 2.85 | 42.9 |  5900 | 22.40 | 60.1 | 6.16 |  3530 |\n| 5 |  10.3 | 45.5 | 6.03 | 58.9 | 19100 |  1.44 | 76.8 | 2.13 | 12200 |\n| 6 |  14.5 | 18.9 | 8.10 | 16.0 | 18700 | 20.90 | 75.8 | 2.37 | 10300 |\n\n",
            "text/html": [
              "<table>\n",
              "<caption>A data.frame: 6 × 9</caption>\n",
              "<thead>\n",
              "\t<tr><th></th><th scope=col>child_mort</th><th scope=col>exports</th><th scope=col>health</th><th scope=col>imports</th><th scope=col>income</th><th scope=col>inflation</th><th scope=col>life_expec</th><th scope=col>total_fer</th><th scope=col>gdpp</th></tr>\n",
              "\t<tr><th></th><th scope=col>&lt;dbl&gt;</th><th scope=col>&lt;dbl&gt;</th><th scope=col>&lt;dbl&gt;</th><th scope=col>&lt;dbl&gt;</th><th scope=col>&lt;int&gt;</th><th scope=col>&lt;dbl&gt;</th><th scope=col>&lt;dbl&gt;</th><th scope=col>&lt;dbl&gt;</th><th scope=col>&lt;int&gt;</th></tr>\n",
              "</thead>\n",
              "<tbody>\n",
              "\t<tr><th scope=row>1</th><td> 90.2</td><td>10.0</td><td>7.58</td><td>44.9</td><td> 1610</td><td> 9.44</td><td>56.2</td><td>5.82</td><td>  553</td></tr>\n",
              "\t<tr><th scope=row>2</th><td> 16.6</td><td>28.0</td><td>6.55</td><td>48.6</td><td> 9930</td><td> 4.49</td><td>76.3</td><td>1.65</td><td> 4090</td></tr>\n",
              "\t<tr><th scope=row>3</th><td> 27.3</td><td>38.4</td><td>4.17</td><td>31.4</td><td>12900</td><td>16.10</td><td>76.5</td><td>2.89</td><td> 4460</td></tr>\n",
              "\t<tr><th scope=row>4</th><td>119.0</td><td>62.3</td><td>2.85</td><td>42.9</td><td> 5900</td><td>22.40</td><td>60.1</td><td>6.16</td><td> 3530</td></tr>\n",
              "\t<tr><th scope=row>5</th><td> 10.3</td><td>45.5</td><td>6.03</td><td>58.9</td><td>19100</td><td> 1.44</td><td>76.8</td><td>2.13</td><td>12200</td></tr>\n",
              "\t<tr><th scope=row>6</th><td> 14.5</td><td>18.9</td><td>8.10</td><td>16.0</td><td>18700</td><td>20.90</td><td>75.8</td><td>2.37</td><td>10300</td></tr>\n",
              "</tbody>\n",
              "</table>\n"
            ]
          },
          "metadata": {
            "tags": []
          }
        }
      ]
    },
    {
      "cell_type": "code",
      "metadata": {
        "id": "nXSZrAtauEWT",
        "colab": {
          "base_uri": "https://localhost:8080/",
          "height": 437
        },
        "outputId": "5ddeee2d-7bad-4f9d-de56-a49e332fa707"
      },
      "source": [
        "set.seed(123)\n",
        "countries2 <- country.data\n",
        "countries2 <- scale(countries2)\n",
        "k4.clusters <- as.vector(k4$cluster)\n",
        "countries2.k4 <- cbind(countries2, k4.clusters)\n",
        "plot(countries2.k4, col=k4.clusters, pch=20)"
      ],
      "execution_count": null,
      "outputs": [
        {
          "output_type": "display_data",
          "data": {
            "image/png": "[encoded data removed]",
            "text/plain": [
              "plot without title"
            ]
          },
          "metadata": {
            "tags": [],
            "image/png": {
              "width": 420,
              "height": 420
            }
          }
        }
      ]
    },
    {
      "cell_type": "code",
      "metadata": {
        "id": "KRw8OzV61EuY"
      },
      "source": [
        "install.packages('GGally')"
      ],
      "execution_count": null,
      "outputs": []
    },
    {
      "cell_type": "code",
      "metadata": {
        "id": "cbM09IVW1cLH"
      },
      "source": [
        "GGally::ggpairs(countries2, lower=list(continuous=\"smooth\", params=c(colour=\"blue\")),\n",
        "  diag=list(continuous=\"bar\", params=c(colour=\"blue\")), \n",
        "  upper=list(params=list(corSize=6)), axisLabels='show')"
      ],
      "execution_count": null,
      "outputs": []
    },
    {
      "cell_type": "markdown",
      "metadata": {
        "id": "sEUzqAnAasgr"
      },
      "source": [
        "#  Hierarchical Clustering"
      ]
    },
    {
      "cell_type": "code",
      "metadata": {
        "id": "C78miTUGaxsl",
        "colab": {
          "base_uri": "https://localhost:8080/",
          "height": 759
        },
        "outputId": "4d73b4a1-8125-4857-bab9-a63d90fe0b5f"
      },
      "source": [
        "# ----- Hierarchical Clustering -----\n",
        "\n",
        "rownames(countries2) <- countries[,1]\n",
        "country <- row.names(countries2)\n",
        "\n",
        "countries2.scaled <- scale(countries2)\n",
        "\n",
        "head(countries2.scaled)\n",
        "\n",
        "# Agglomerative Hierarchical Clustering (usually for small number of clusters)\n",
        "\n",
        "# Hierarchical Clustering Metrics for AGNES\n",
        "\n",
        "# The following four methods help to find certain hierarchical clustering\n",
        "# methods that identify stronger clustering structures.\n",
        "\n",
        "m <- c( \"average\", \"single\", \"complete\", \"ward\")\n",
        "names(m) <- c( \"average\", \"single\", \"complete\", \"ward\")\n",
        "\n",
        "# function to compute coefficient\n",
        "ac <- function(x) {\n",
        "  agnes(countries2.scaled, method = x)$ac\n",
        "}\n",
        "\n",
        "library(purrr)\n",
        "map_dbl(m, ac)\n",
        "##   average    single  complete      ward \n",
        "## 0.8752786 0.8430072 0.9130134 0.9519134\n",
        "\n",
        "# Our results indicate that Ward's method identifies the strongest clustering\n",
        "# structure of the four methods assessed\n",
        "\n",
        "# visualize dendrogram using Ward's method\n",
        "hc3 <- agnes(countries2.scaled, method = \"ward\")\n",
        "pltree(hc3, cex = 0.6, hang = -1, main = \"Dendrogram of Agglomerate Hierarchical Clustering\") \n",
        "rect.hclust(hc3,k=3,border = 2:5)\n",
        "\n",
        "# determine number of countries in each cluster\n",
        "\n",
        "# Cut tree into 4 groups\n",
        "sub_grp <- cutree(hc3, k = 4)\n",
        "\n",
        "fviz_nbclust(countries2.scaled, FUN = hcut, method = \"wss\")\n",
        "\n",
        "fviz_nbclust(countries2.scaled, FUN = hcut, method = \"silhouette\")\n",
        "\n",
        "fviz_nbclust(countries2.scaled, FUN = hcut, method = \"gap\")\n",
        "\n",
        "# Number of members in each cluster\n",
        "table(sub_grp)\n",
        "## sub_grp\n",
        "##   1   2   3  4 \n",
        "##  27 106  31  3\n",
        "\n",
        "hc.clusters <- as.vector(sub_grp) \n",
        "\n",
        "# add cluster number to dataframe of countries\n",
        "agnes_countries <- data.frame(child_mort = countries2$child_mort, exports = countries2$exports, \n",
        "                              health = countries2$health, imports = countries2$imports, \n",
        "                              income = countries2$income, inflation = countries2$inflation, \n",
        "                              life_expec = countries2$life_expec, total_fer = countries2$total_fer, \n",
        "                              gdpp = countries2$gdpp, clusters = hc.clusters)\n",
        "\n",
        "\n",
        "\n",
        "ggplot(agnes_countries, aes(x=factor(hc.clusters), y=child_mort)) +\n",
        "  geom_boxplot()\n",
        "\n",
        "# Cluster 1 has a significantly higher rate of child mortality compared to other three clusters\n",
        "# , with cluster 2 having the second highest. \n",
        "\n",
        "ggplot(agnes_countries, aes(x=factor(hc.clusters), y=exports)) +\n",
        "  geom_boxplot()\n",
        "\n",
        "# Cluster 4 has a significantly higher rate of exports in comparison to the other clusters\n",
        "\n",
        "ggplot(agnes_countries, aes(x=factor(hc.clusters), y=imports)) +\n",
        "  geom_boxplot()\n",
        "\n",
        "# Cluster 4 has a significantly higher rate of imports in comparison to the other clusters\n",
        "\n",
        "ggplot(agnes_countries, aes(x=factor(hc.clusters), y=health)) +\n",
        "  geom_boxplot()\n",
        "\n",
        "# Cluster 3 tends to have a higher rate of spending in health in comparison to the other \n",
        "# clusters\n",
        "\n",
        "ggplot(agnes_countries, aes(x=factor(hc.clusters), y=income)) +\n",
        "  geom_boxplot()\n",
        "\n",
        "# Cluster 4 tends to have the highest levels of income per person, followed by Cluster 3\n",
        "\n",
        "ggplot(agnes_countries, aes(x=factor(hc.clusters), y=inflation)) +\n",
        "  geom_boxplot()\n",
        "\n",
        "# No clear distinction. Cluster 2 may have slightly higher rate of inflation than other clusters\n",
        "\n",
        "ggplot(agnes_countries, aes(x=factor(hc.clusters), y=life_expec)) +\n",
        "  geom_boxplot()\n",
        "\n",
        "# Clusters 3 and 4 have significantly higher life expectancy rates in comparison to clusters\n",
        "# 1 and 2. Cluster 1 has the lowest life expectancy rate\n",
        "\n",
        "ggplot(agnes_countries, aes(x=factor(hc.clusters), y=total_fer)) +\n",
        "  geom_boxplot()\n",
        "\n",
        "# Cluster 1 has a significantly higher rate of total fertitlity in compariosn to the other\n",
        "# clusters\n",
        "\n",
        "ggplot(agnes_countries, aes(x=factor(hc.clusters), y=gdpp)) +\n",
        "  geom_boxplot()\n"
      ],
      "execution_count": null,
      "outputs": [
        {
          "output_type": "error",
          "ename": "ERROR",
          "evalue": "ignored",
          "traceback": [
            "Error in `.rowNamesDF<-`(x, value = value): invalid 'row.names' length\nTraceback:\n",
            "1. `rownames<-`(`*tmp*`, value = structure(list(country = c(\"Afghanistan\", \n . \"Albania\", \"Algeria\", \"Angola\", \"Antigua and Barbuda\", \"Argentina\", \n . \"Armenia\", \"Australia\", \"Austria\", \"Azerbaijan\", \"Bahamas\", \"Bahrain\", \n . \"Bangladesh\", \"Barbados\", \"Belarus\", \"Belgium\", \"Belize\", \"Benin\", \n . \"Bhutan\", \"Bolivia\", \"Bosnia and Herzegovina\", \"Botswana\", \"Brazil\", \n . \"Brunei\", \"Bulgaria\", \"Burkina Faso\", \"Burundi\", \"Cambodia\", \n . \"Cameroon\", \"Canada\", \"Cape Verde\", \"Central African Republic\", \n . \"Chad\", \"Chile\", \"China\", \"Colombia\", \"Comoros\", \"Congo, Dem. Rep.\", \n . \"Congo, Rep.\", \"Costa Rica\", \"Cote dIvoire\", \"Croatia\", \"Cyprus\", \n . \"Czech Republic\", \"Denmark\", \"Dominican Republic\", \"Ecuador\", \n . \"Egypt\", \"El Salvador\", \"Equatorial Guinea\", \"Eritrea\", \"Estonia\", \n . \"Fiji\", \"Finland\", \"France\", \"Gabon\", \"Gambia\", \"Georgia\", \"Germany\", \n . \"Ghana\", \"Greece\", \"Grenada\", \"Guatemala\", \"Guinea\", \"Guinea-Bissau\", \n . \"Guyana\", \"Haiti\", \"Hungary\", \"Iceland\", \"India\", \"Indonesia\", \n . \"Iran\", \"Iraq\", \"Ireland\", \"Israel\", \"Italy\", \"Jamaica\", \"Japan\", \n . \"Jordan\", \"Kazakhstan\", \"Kenya\", \"Kiribati\", \"Kuwait\", \"Kyrgyz Republic\", \n . \"Lao\", \"Latvia\", \"Lebanon\", \"Lesotho\", \"Liberia\", \"Libya\", \"Lithuania\", \n . \"Luxembourg\", \"Macedonia, FYR\", \"Madagascar\", \"Malawi\", \"Malaysia\", \n . \"Maldives\", \"Mali\", \"Malta\", \"Mauritania\", \"Mauritius\", \"Micronesia, Fed. Sts.\", \n . \"Moldova\", \"Mongolia\", \"Montenegro\", \"Morocco\", \"Mozambique\", \n . \"Myanmar\", \"Namibia\", \"Nepal\", \"Netherlands\", \"New Zealand\", \n . \"Niger\", \"Nigeria\", \"Norway\", \"Oman\", \"Pakistan\", \"Panama\", \"Paraguay\", \n . \"Peru\", \"Philippines\", \"Poland\", \"Portugal\", \"Qatar\", \"Romania\", \n . \"Russia\", \"Rwanda\", \"Samoa\", \"Saudi Arabia\", \"Senegal\", \"Serbia\", \n . \"Seychelles\", \"Sierra Leone\", \"Singapore\", \"Slovak Republic\", \n . \"Slovenia\", \"Solomon Islands\", \"South Africa\", \"South Korea\", \n . \"Spain\", \"Sri Lanka\", \"St. Vincent and the Grenadines\", \"Sudan\", \n . \"Suriname\", \"Sweden\", \"Switzerland\", \"Tajikistan\", \"Tanzania\", \n . \"Thailand\", \"Timor-Leste\", \"Togo\", \"Tonga\", \"Tunisia\", \"Turkey\", \n . \"Turkmenistan\", \"Uganda\", \"Ukraine\", \"United Arab Emirates\", \n . \"United Kingdom\", \"United States\", \"Uruguay\", \"Uzbekistan\", \"Vanuatu\", \n . \"Venezuela\", \"Vietnam\", \"Yemen\", \"Zambia\")), row.names = c(NA, \n . -167L), class = \"data.frame\"))",
            "2. `row.names<-`(`*tmp*`, value = value)",
            "3. `row.names<-.data.frame`(`*tmp*`, value = value)",
            "4. `.rowNamesDF<-`(x, value = value)",
            "5. stop(\"invalid 'row.names' length\")"
          ]
        }
      ]
    }
  ]
}